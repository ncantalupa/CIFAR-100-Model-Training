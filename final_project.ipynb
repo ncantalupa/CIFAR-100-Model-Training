{
 "cells": [
  {
   "cell_type": "markdown",
   "metadata": {},
   "source": [
    "# CIFAR-100 Dataset: Image Classification\n",
    "## Nick Cantalupa and Sean Duffy\n",
    "In this project, we will be training 4 seperate models useing different supervised machine learning techniques. These models will be classifying images using a dataset of 60,000 training images. "
   ]
  },
  {
   "cell_type": "markdown",
   "metadata": {},
   "source": [
    "## Loading dataset"
   ]
  },
  {
   "cell_type": "code",
   "execution_count": 1,
   "metadata": {},
   "outputs": [],
   "source": [
    "import torch\n",
    "from torchvision.datasets import CIFAR100\n",
    "from torch.utils.data import DataLoader\n",
    "import torchvision.transforms as transforms\n",
    "import pandas as pd\n",
    "import numpy as np\n",
    "import matplotlib.pyplot as plt\n",
    "import pickle"
   ]
  },
  {
   "cell_type": "code",
   "execution_count": 2,
   "metadata": {},
   "outputs": [
    {
     "name": "stdout",
     "output_type": "stream",
     "text": [
      "Files already downloaded and verified\n"
     ]
    }
   ],
   "source": [
    "ROOT_PATH = 'data'\n",
    "\n",
    "BATCH_SIZE = 50000\n",
    "\n",
    "transform = transforms.Compose(\n",
    "    [transforms.ToTensor(),\n",
    "     transforms.Normalize((0.5, 0.5, 0.5), (0.5, 0.5, 0.5))])\n",
    "\n",
    "train_dataset = CIFAR100(root=ROOT_PATH, download=True, train=True, transform=transform)\n",
    "eval_dataset = CIFAR100(root=ROOT_PATH, train=False, transform=transform)\n",
    "\n",
    "train_data_loader = DataLoader(dataset=train_dataset, num_workers=4, batch_size=BATCH_SIZE, shuffle=True)\n",
    "eval_data_loader = DataLoader(dataset=eval_dataset, num_workers=4, batch_size=BATCH_SIZE, shuffle=False)"
   ]
  },
  {
   "cell_type": "code",
   "execution_count": 3,
   "metadata": {},
   "outputs": [],
   "source": [
    "import json\n",
    "\n",
    "with open('data/cifar-100-python/meta', 'rb') as file:\n",
    "    meta = pickle.load(file)\n",
    "\n",
    "with open(\"labels.json\", 'w') as mf:\n",
    "    json.dump(meta, mf)"
   ]
  },
  {
   "cell_type": "code",
   "execution_count": 4,
   "metadata": {},
   "outputs": [
    {
     "data": {
      "text/plain": [
       "{0: 'apple',\n",
       " 1: 'aquarium_fish',\n",
       " 2: 'baby',\n",
       " 3: 'bear',\n",
       " 4: 'beaver',\n",
       " 5: 'bed',\n",
       " 6: 'bee',\n",
       " 7: 'beetle',\n",
       " 8: 'bicycle',\n",
       " 9: 'bottle',\n",
       " 10: 'bowl',\n",
       " 11: 'boy',\n",
       " 12: 'bridge',\n",
       " 13: 'bus',\n",
       " 14: 'butterfly',\n",
       " 15: 'camel',\n",
       " 16: 'can',\n",
       " 17: 'castle',\n",
       " 18: 'caterpillar',\n",
       " 19: 'cattle',\n",
       " 20: 'chair',\n",
       " 21: 'chimpanzee',\n",
       " 22: 'clock',\n",
       " 23: 'cloud',\n",
       " 24: 'cockroach',\n",
       " 25: 'couch',\n",
       " 26: 'crab',\n",
       " 27: 'crocodile',\n",
       " 28: 'cup',\n",
       " 29: 'dinosaur',\n",
       " 30: 'dolphin',\n",
       " 31: 'elephant',\n",
       " 32: 'flatfish',\n",
       " 33: 'forest',\n",
       " 34: 'fox',\n",
       " 35: 'girl',\n",
       " 36: 'hamster',\n",
       " 37: 'house',\n",
       " 38: 'kangaroo',\n",
       " 39: 'keyboard',\n",
       " 40: 'lamp',\n",
       " 41: 'lawn_mower',\n",
       " 42: 'leopard',\n",
       " 43: 'lion',\n",
       " 44: 'lizard',\n",
       " 45: 'lobster',\n",
       " 46: 'man',\n",
       " 47: 'maple_tree',\n",
       " 48: 'motorcycle',\n",
       " 49: 'mountain',\n",
       " 50: 'mouse',\n",
       " 51: 'mushroom',\n",
       " 52: 'oak_tree',\n",
       " 53: 'orange',\n",
       " 54: 'orchid',\n",
       " 55: 'otter',\n",
       " 56: 'palm_tree',\n",
       " 57: 'pear',\n",
       " 58: 'pickup_truck',\n",
       " 59: 'pine_tree',\n",
       " 60: 'plain',\n",
       " 61: 'plate',\n",
       " 62: 'poppy',\n",
       " 63: 'porcupine',\n",
       " 64: 'possum',\n",
       " 65: 'rabbit',\n",
       " 66: 'raccoon',\n",
       " 67: 'ray',\n",
       " 68: 'road',\n",
       " 69: 'rocket',\n",
       " 70: 'rose',\n",
       " 71: 'sea',\n",
       " 72: 'seal',\n",
       " 73: 'shark',\n",
       " 74: 'shrew',\n",
       " 75: 'skunk',\n",
       " 76: 'skyscraper',\n",
       " 77: 'snail',\n",
       " 78: 'snake',\n",
       " 79: 'spider',\n",
       " 80: 'squirrel',\n",
       " 81: 'streetcar',\n",
       " 82: 'sunflower',\n",
       " 83: 'sweet_pepper',\n",
       " 84: 'table',\n",
       " 85: 'tank',\n",
       " 86: 'telephone',\n",
       " 87: 'television',\n",
       " 88: 'tiger',\n",
       " 89: 'tractor',\n",
       " 90: 'train',\n",
       " 91: 'trout',\n",
       " 92: 'tulip',\n",
       " 93: 'turtle',\n",
       " 94: 'wardrobe',\n",
       " 95: 'whale',\n",
       " 96: 'willow_tree',\n",
       " 97: 'wolf',\n",
       " 98: 'woman',\n",
       " 99: 'worm'}"
      ]
     },
     "execution_count": 4,
     "metadata": {},
     "output_type": "execute_result"
    }
   ],
   "source": [
    "label_mapper = {}\n",
    "for i , label in enumerate(meta[\"fine_label_names\"]):\n",
    "    label_mapper[i] = label\n",
    "label_mapper"
   ]
  },
  {
   "cell_type": "code",
   "execution_count": 5,
   "metadata": {},
   "outputs": [
    {
     "name": "stdout",
     "output_type": "stream",
     "text": [
      "torch.Size([50000, 3, 32, 32])\n",
      "torch.Size([50000])\n",
      "torch.Size([10000, 3, 32, 32])\n",
      "torch.Size([10000])\n"
     ]
    }
   ],
   "source": [
    "for train_data, train_labels in train_data_loader:\n",
    "    print(train_data.shape)\n",
    "    print(train_labels.shape)\n",
    "    break\n",
    "\n",
    "for eval_data, eval_labels in eval_data_loader:\n",
    "    print(eval_data.shape)\n",
    "    print(eval_labels.shape)\n",
    "    break"
   ]
  },
  {
   "cell_type": "code",
   "execution_count": 6,
   "metadata": {},
   "outputs": [
    {
     "name": "stderr",
     "output_type": "stream",
     "text": [
      "Clipping input data to the valid range for imshow with RGB data ([0..1] for floats or [0..255] for integers).\n"
     ]
    },
    {
     "data": {
      "image/png": "[encoded data removed]",
      "text/plain": [
       "<Figure size 640x480 with 1 Axes>"
      ]
     },
     "metadata": {},
     "output_type": "display_data"
    },
    {
     "name": "stdout",
     "output_type": "stream",
     "text": [
      "road\n"
     ]
    }
   ],
   "source": [
    "i = 3792\n",
    "img = train_data[i, :].permute(1,2,0)\n",
    "plt.imshow(img)\n",
    "plt.show()\n",
    "print(label_mapper[int(train_labels[i])])"
   ]
  },
  {
   "cell_type": "code",
   "execution_count": 7,
   "metadata": {},
   "outputs": [
    {
     "data": {
      "text/plain": [
       "torch.Size([3, 32, 32])"
      ]
     },
     "execution_count": 7,
     "metadata": {},
     "output_type": "execute_result"
    }
   ],
   "source": [
    "train_data[0].shape"
   ]
  },
  {
   "cell_type": "markdown",
   "metadata": {},
   "source": [
    "## Logistic Regression"
   ]
  },
  {
   "cell_type": "code",
   "execution_count": 8,
   "metadata": {},
   "outputs": [
    {
     "data": {
      "text/plain": [
       "40000"
      ]
     },
     "execution_count": 8,
     "metadata": {},
     "output_type": "execute_result"
    }
   ],
   "source": [
    "def validation_split(n, val_pct):\n",
    "    n_val = int(n*val_pct)\n",
    "    indexes = np.random.permutation(n)\n",
    "    return indexes[:n_val], indexes[n_val:]\n",
    "\n",
    "training_set, validation_set = validation_split(len(train_data), .80)\n",
    "len(training_set)"
   ]
  },
  {
   "cell_type": "code",
   "execution_count": 9,
   "metadata": {},
   "outputs": [
    {
     "data": {
      "text/plain": [
       "3072"
      ]
     },
     "execution_count": 9,
     "metadata": {},
     "output_type": "execute_result"
    }
   ],
   "source": [
    "input_size = 3*32*32\n",
    "num_classes = 100"
   ]
  },
  {
   "cell_type": "markdown",
   "metadata": {},
   "source": [
    "#### Neural LR"
   ]
  },
  {
   "cell_type": "code",
   "execution_count": 10,
   "metadata": {},
   "outputs": [],
   "source": [
    "class LogisticRegressionTorch(torch.nn.Module):\n",
    "    def __init__(self):\n",
    "        super(LogisticRegressionTorch, self).__init__()\n",
    "        self.linear = torch.nn.Linear(input_size, num_classes)\n",
    "\n",
    "    def forward(self, xb):\n",
    "        xb = xb.reshape(-1, input_size)\n",
    "        output = self.linear(xb)\n",
    "        return output"
   ]
  },
  {
   "cell_type": "code",
   "execution_count": 14,
   "metadata": {},
   "outputs": [
    {
     "data": {
      "text/plain": [
       "0.00734"
      ]
     },
     "execution_count": 14,
     "metadata": {},
     "output_type": "execute_result"
    }
   ],
   "source": [
    "def accuracy(outputs, labels):\n",
    "    _, preds = torch.max(outputs, dim=1)\n",
    "    return torch.sum(preds == labels).item() / len(preds)"
   ]
  },
  {
   "cell_type": "code",
   "execution_count": 17,
   "metadata": {},
   "outputs": [],
   "source": [
    "def loss_batch(model, loss_fn, xb, yb, opt=None, metric=None):\n",
    "    preds = model(xb)\n",
    "    loss = loss_fn(preds, yb)\n",
    "    if (opt is not None):\n",
    "        loss.backward()\n",
    "        opt.step()\n",
    "        opt.zero_grad()\n",
    "    metric_result = None\n",
    "    if metric is not None:\n",
    "        metric_result = metric(preds,yb)\n",
    "    return loss.item(), len(xb), metric_result"
   ]
  },
  {
   "cell_type": "code",
   "execution_count": 18,
   "metadata": {},
   "outputs": [],
   "source": [
    "def evaluate(model, loss_fn, valid_dl, metric=None):\n",
    "    with torch.no_grad():\n",
    "        results = [loss_batch(model, loss_fn, xb, yb, metric=metric) for xb, yb, in valid_dl]\n",
    "        losses, nums, metrics = zip(*results)\n",
    "        total = np.sum(nums)\n",
    "        total_loss = np.sum(np.multiply(losses, nums))\n",
    "        avg_loss = total_loss/total\n",
    "        avg_metric = None \n",
    "        if metric is not None:\n",
    "            tot_metric = np.sum(np.multiply(metrics, nums))\n",
    "            avg_metric = tot_metric/total\n",
    "    return avg_loss, total, avg_metric"
   ]
  },
  {
   "cell_type": "code",
   "execution_count": 20,
   "metadata": {},
   "outputs": [],
   "source": [
    "def fit(epochs, model, loss_fn, opt, train_dl, valid_dl, metric=None):\n",
    "    for epoch in range(epochs):\n",
    "        for xb, yb in train_dl:\n",
    "            loss, _, _ = loss_batch(model, loss_fn, xb, yb, opt)\n",
    "        result = evaluate(model, loss_fn, valid_dl, metric)\n",
    "        val_loss, total, val_metric = result\n",
    "\n",
    "        if metric is None:\n",
    "            print(\"Epoch[{}/{}], Loss: {:.4f}\".format(epoch+1, epochs, val_loss))\n",
    "        else:\n",
    "            print(\"Epoch[{}/{}], Loss: {:.4f}, {}: {:.4f}\".format(epoch+1, epochs, val_loss, metric.__name__, val_metric))"
   ]
  },
  {
   "cell_type": "code",
   "execution_count": 21,
   "metadata": {},
   "outputs": [],
   "source": [
    "learning_rate = 0.1\n",
    "model = LogisticRegressionTorch()\n",
    "optimizer =torch.optim.SGD(model.parameters(), lr=learning_rate)"
   ]
  },
  {
   "cell_type": "code",
   "execution_count": 22,
   "metadata": {},
   "outputs": [
    {
     "name": "stdout",
     "output_type": "stream",
     "text": [
      "Epoch[1/20], Loss: 4.5516, accuracy: 0.0306\n",
      "Epoch[2/20], Loss: 4.4783, accuracy: 0.0423\n",
      "Epoch[3/20], Loss: 4.4229, accuracy: 0.0503\n",
      "Epoch[4/20], Loss: 4.3779, accuracy: 0.0561\n",
      "Epoch[5/20], Loss: 4.3397, accuracy: 0.0614\n",
      "Epoch[6/20], Loss: 4.3068, accuracy: 0.0648\n",
      "Epoch[7/20], Loss: 4.2779, accuracy: 0.0686\n",
      "Epoch[8/20], Loss: 4.2523, accuracy: 0.0724\n",
      "Epoch[9/20], Loss: 4.2295, accuracy: 0.0763\n",
      "Epoch[10/20], Loss: 4.2089, accuracy: 0.0793\n",
      "Epoch[11/20], Loss: 4.1903, accuracy: 0.0833\n",
      "Epoch[12/20], Loss: 4.1733, accuracy: 0.0861\n",
      "Epoch[13/20], Loss: 4.1577, accuracy: 0.0891\n",
      "Epoch[14/20], Loss: 4.1433, accuracy: 0.0911\n",
      "Epoch[15/20], Loss: 4.1300, accuracy: 0.0927\n",
      "Epoch[16/20], Loss: 4.1176, accuracy: 0.0946\n",
      "Epoch[17/20], Loss: 4.1060, accuracy: 0.0972\n",
      "Epoch[18/20], Loss: 4.0952, accuracy: 0.0996\n",
      "Epoch[19/20], Loss: 4.0850, accuracy: 0.1015\n",
      "Epoch[20/20], Loss: 4.0754, accuracy: 0.1026\n"
     ]
    }
   ],
   "source": [
    "fit(10, model, torch.nn.functional.cross_entropy, optimizer, train_data_loader, eval_data_loader, accuracy)"
   ]
  },
  {
   "cell_type": "markdown",
   "metadata": {},
   "source": [
    "#### Flattened Logistic Regression"
   ]
  },
  {
   "cell_type": "code",
   "execution_count": 36,
   "metadata": {},
   "outputs": [
    {
     "name": "stdout",
     "output_type": "stream",
     "text": [
      "0.0 %\n",
      "1.2 %\n",
      "2.4 %\n",
      "3.6 %\n",
      "4.8 %\n",
      "6.0 %\n",
      "7.2 %\n",
      "8.4 %\n",
      "9.6 %\n",
      "10.8 %\n",
      "12.0 %\n",
      "13.2 %\n",
      "14.4 %\n",
      "15.6 %\n",
      "16.8 %\n",
      "18.0 %\n",
      "19.2 %\n",
      "20.4 %\n",
      "21.6 %\n",
      "22.8 %\n",
      "24.0 %\n",
      "25.2 %\n",
      "26.4 %\n",
      "27.6 %\n",
      "28.8 %\n",
      "30.0 %\n",
      "31.2 %\n",
      "32.4 %\n",
      "33.6 %\n",
      "34.8 %\n",
      "36.0 %\n",
      "37.2 %\n",
      "38.4 %\n",
      "39.6 %\n",
      "40.8 %\n",
      "42.0 %\n",
      "43.2 %\n",
      "44.4 %\n",
      "45.6 %\n",
      "46.8 %\n",
      "48.0 %\n",
      "49.2 %\n",
      "50.4 %\n",
      "51.6 %\n",
      "52.8 %\n",
      "54.0 %\n",
      "55.2 %\n",
      "56.4 %\n",
      "57.6 %\n",
      "58.8 %\n",
      "60.0 %\n",
      "61.2 %\n",
      "62.4 %\n",
      "63.6 %\n",
      "64.8 %\n",
      "66.0 %\n",
      "67.2 %\n",
      "68.4 %\n",
      "69.6 %\n",
      "70.8 %\n",
      "72.0 %\n",
      "73.2 %\n",
      "74.4 %\n",
      "75.6 %\n",
      "76.8 %\n",
      "78.0 %\n",
      "79.2 %\n",
      "80.4 %\n",
      "81.6 %\n",
      "82.8 %\n",
      "84.0 %\n",
      "85.2 %\n",
      "86.4 %\n",
      "87.6 %\n",
      "88.8 %\n",
      "90.0 %\n",
      "91.2 %\n",
      "92.4 %\n",
      "93.6 %\n",
      "94.8 %\n",
      "96.0 %\n",
      "97.2 %\n",
      "98.4 %\n",
      "99.6 %\n"
     ]
    }
   ],
   "source": [
    "flattened_data = []\n",
    "for i in range(len(train_data)):\n",
    "    if (i%1000 == 0):\n",
    "        print(round((i/len(train_data))*100, 4),\"%\")\n",
    "    flat = train_data[i].flatten()\n",
    "    flat = flat.numpy()\n",
    "    flattened_data.append(pd.Series(flat))\n",
    "\n",
    "df = pd.DataFrame(flattened_data)"
   ]
  },
  {
   "cell_type": "code",
   "execution_count": 25,
   "metadata": {},
   "outputs": [
    {
     "name": "stderr",
     "output_type": "stream",
     "text": [
      "/Users/ncantalupa/opt/miniconda3/lib/python3.9/site-packages/scipy/__init__.py:138: UserWarning: A NumPy version >=1.16.5 and <1.23.0 is required for this version of SciPy (detected version 1.26.4)\n",
      "  warnings.warn(f\"A NumPy version >={np_minversion} and <{np_maxversion} is required for this version of \"\n"
     ]
    },
    {
     "name": "stdout",
     "output_type": "stream",
     "text": [
      "Accuracy: 0.1307\n"
     ]
    }
   ],
   "source": [
    "from sklearn.linear_model import LogisticRegression\n",
    "from sklearn.model_selection import train_test_split\n",
    "from sklearn.metrics import accuracy_score\n",
    "\n",
    "X = df\n",
    "y = train_labels\n",
    "\n",
    "X_train, X_test, y_train, y_test = train_test_split(X, y, test_size=0.2, random_state=42)\n",
    "clf = LogisticRegression(multi_class='multinomial', solver='lbfgs', max_iter=400)\n",
    "clf.fit(X_train, y_train)\n",
    "y_pred = clf.predict(X_test)\n",
    "accuracy = accuracy_score(y_test, y_pred)\n",
    "print(\"Accuracy:\", accuracy)"
   ]
  }
 ],
 "metadata": {
  "kernelspec": {
   "display_name": "base",
   "language": "python",
   "name": "python3"
  },
  "language_info": {
   "codemirror_mode": {
    "name": "ipython",
    "version": 3
   },
   "file_extension": ".py",
   "mimetype": "text/x-python",
   "name": "python",
   "nbconvert_exporter": "python",
   "pygments_lexer": "ipython3",
   "version": "3.9.18"
  }
 },
 "nbformat": 4,
 "nbformat_minor": 2
}
