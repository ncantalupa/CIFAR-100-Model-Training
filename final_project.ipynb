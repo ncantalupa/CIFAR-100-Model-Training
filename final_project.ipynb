{
 "cells": [
  {
   "cell_type": "markdown",
   "metadata": {},
   "source": [
    "# CIFAR-100 Dataset: Image Classification\n",
    "## Nick Cantalupa and Sean Duffy\n",
    "In this project, we will be training 4 seperate models useing different supervised machine learning techniques. These models will be classifying images using a dataset of 60,000 training images. "
   ]
  },
  {
   "cell_type": "markdown",
   "metadata": {},
   "source": [
    "## Loading dataset"
   ]
  },
  {
   "cell_type": "code",
   "execution_count": 1,
   "metadata": {},
   "outputs": [],
   "source": [
    "import torch\n",
    "from torchvision.datasets import CIFAR100\n",
    "from torch.utils.data import DataLoader\n",
    "import torchvision.transforms as transforms\n",
    "import pandas as pd\n",
    "import numpy as np\n",
    "import matplotlib.pyplot as plt\n",
    "import pickle"
   ]
  },
  {
   "cell_type": "code",
   "execution_count": 7,
   "metadata": {},
   "outputs": [
    {
     "name": "stdout",
     "output_type": "stream",
     "text": [
      "Files already downloaded and verified\n"
     ]
    }
   ],
   "source": [
    "ROOT_PATH = 'data'\n",
    "\n",
    "BATCH_SIZE = 4\n",
    "\n",
    "transform = transforms.Compose(\n",
    "    [transforms.ToTensor(),\n",
    "     transforms.Normalize((0.5, 0.5, 0.5), (0.5, 0.5, 0.5))])\n",
    "\n",
    "train_dataset = CIFAR100(root=ROOT_PATH, download=True, train=True, transform=transform)\n",
    "eval_dataset = CIFAR100(root=ROOT_PATH, train=False, transform=transform)\n",
    "\n",
    "train_data_loader = DataLoader(dataset=train_dataset, num_workers=4, batch_size=BATCH_SIZE, shuffle=True)\n",
    "eval_data_loader = DataLoader(dataset=eval_dataset, num_workers=4, batch_size=BATCH_SIZE, shuffle=False)"
   ]
  },
  {
   "cell_type": "code",
   "execution_count": 3,
   "metadata": {},
   "outputs": [],
   "source": [
    "import json\n",
    "\n",
    "with open('data/cifar-100-python/meta', 'rb') as file:\n",
    "    meta = pickle.load(file)\n",
    "\n",
    "with open(\"labels.json\", 'w') as mf:\n",
    "    json.dump(meta, mf)"
   ]
  },
  {
   "cell_type": "markdown",
   "metadata": {},
   "source": [
    "## Code below has bugs"
   ]
  },
  {
   "cell_type": "code",
   "execution_count": 4,
   "metadata": {},
   "outputs": [
    {
     "data": {
      "text/plain": [
       "{1: 'apple',\n",
       " 2: 'aquarium_fish',\n",
       " 3: 'baby',\n",
       " 4: 'bear',\n",
       " 5: 'beaver',\n",
       " 6: 'bed',\n",
       " 7: 'bee',\n",
       " 8: 'beetle',\n",
       " 9: 'bicycle',\n",
       " 10: 'bottle',\n",
       " 11: 'bowl',\n",
       " 12: 'boy',\n",
       " 13: 'bridge',\n",
       " 14: 'bus',\n",
       " 15: 'butterfly',\n",
       " 16: 'camel',\n",
       " 17: 'can',\n",
       " 18: 'castle',\n",
       " 19: 'caterpillar',\n",
       " 20: 'cattle',\n",
       " 21: 'chair',\n",
       " 22: 'chimpanzee',\n",
       " 23: 'clock',\n",
       " 24: 'cloud',\n",
       " 25: 'cockroach',\n",
       " 26: 'couch',\n",
       " 27: 'crab',\n",
       " 28: 'crocodile',\n",
       " 29: 'cup',\n",
       " 30: 'dinosaur',\n",
       " 31: 'dolphin',\n",
       " 32: 'elephant',\n",
       " 33: 'flatfish',\n",
       " 34: 'forest',\n",
       " 35: 'fox',\n",
       " 36: 'girl',\n",
       " 37: 'hamster',\n",
       " 38: 'house',\n",
       " 39: 'kangaroo',\n",
       " 40: 'keyboard',\n",
       " 41: 'lamp',\n",
       " 42: 'lawn_mower',\n",
       " 43: 'leopard',\n",
       " 44: 'lion',\n",
       " 45: 'lizard',\n",
       " 46: 'lobster',\n",
       " 47: 'man',\n",
       " 48: 'maple_tree',\n",
       " 49: 'motorcycle',\n",
       " 50: 'mountain',\n",
       " 51: 'mouse',\n",
       " 52: 'mushroom',\n",
       " 53: 'oak_tree',\n",
       " 54: 'orange',\n",
       " 55: 'orchid',\n",
       " 56: 'otter',\n",
       " 57: 'palm_tree',\n",
       " 58: 'pear',\n",
       " 59: 'pickup_truck',\n",
       " 60: 'pine_tree',\n",
       " 61: 'plain',\n",
       " 62: 'plate',\n",
       " 63: 'poppy',\n",
       " 64: 'porcupine',\n",
       " 65: 'possum',\n",
       " 66: 'rabbit',\n",
       " 67: 'raccoon',\n",
       " 68: 'ray',\n",
       " 69: 'road',\n",
       " 70: 'rocket',\n",
       " 71: 'rose',\n",
       " 72: 'sea',\n",
       " 73: 'seal',\n",
       " 74: 'shark',\n",
       " 75: 'shrew',\n",
       " 76: 'skunk',\n",
       " 77: 'skyscraper',\n",
       " 78: 'snail',\n",
       " 79: 'snake',\n",
       " 80: 'spider',\n",
       " 81: 'squirrel',\n",
       " 82: 'streetcar',\n",
       " 83: 'sunflower',\n",
       " 84: 'sweet_pepper',\n",
       " 85: 'table',\n",
       " 86: 'tank',\n",
       " 87: 'telephone',\n",
       " 88: 'television',\n",
       " 89: 'tiger',\n",
       " 90: 'tractor',\n",
       " 91: 'train',\n",
       " 92: 'trout',\n",
       " 93: 'tulip',\n",
       " 94: 'turtle',\n",
       " 95: 'wardrobe',\n",
       " 96: 'whale',\n",
       " 97: 'willow_tree',\n",
       " 98: 'wolf',\n",
       " 99: 'woman',\n",
       " 100: 'worm'}"
      ]
     },
     "execution_count": 4,
     "metadata": {},
     "output_type": "execute_result"
    }
   ],
   "source": [
    "label_mapper = {}\n",
    "for i , label in enumerate(meta[\"fine_label_names\"], 1):\n",
    "    label_mapper[i] = label\n",
    "label_mapper"
   ]
  },
  {
   "cell_type": "code",
   "execution_count": 8,
   "metadata": {},
   "outputs": [
    {
     "name": "stdout",
     "output_type": "stream",
     "text": [
      "tensor([[[[-0.4510, -0.4902, -0.4824,  ..., -0.3569, -0.3882, -0.4118],\n",
      "          [-0.2941, -0.4431, -0.5216,  ..., -0.5137, -0.5608, -0.5608],\n",
      "          [-0.3804, -0.3647, -0.3255,  ..., -0.5922, -0.6471, -0.6078],\n",
      "          ...,\n",
      "          [ 0.1529,  0.1922,  0.0510,  ..., -0.5843, -0.4196, -0.4118],\n",
      "          [ 0.2078, -0.0196,  0.0667,  ..., -0.3804, -0.4353, -0.4980],\n",
      "          [-0.0196, -0.0353,  0.2941,  ...,  0.1843,  0.0431, -0.2471]],\n",
      "\n",
      "         [[-0.4902, -0.5294, -0.5216,  ..., -0.2392, -0.2627, -0.3490],\n",
      "          [-0.4118, -0.5137, -0.5608,  ..., -0.4275, -0.4510, -0.5137],\n",
      "          [-0.5294, -0.4824, -0.4196,  ..., -0.5608, -0.5843, -0.6157],\n",
      "          ...,\n",
      "          [-0.0824, -0.0510, -0.1922,  ..., -0.6000, -0.4510, -0.4745],\n",
      "          [-0.0353, -0.2941, -0.2314,  ..., -0.3647, -0.5059, -0.6000],\n",
      "          [-0.2549, -0.2941,  0.0039,  ...,  0.1451, -0.0902, -0.4118]],\n",
      "\n",
      "         [[-0.5922, -0.6235, -0.6157,  ..., -0.5608, -0.5608, -0.5608],\n",
      "          [-0.5373, -0.6078, -0.6314,  ..., -0.6627, -0.6784, -0.6863],\n",
      "          [-0.6549, -0.5843, -0.5059,  ..., -0.6314, -0.6471, -0.6549],\n",
      "          ...,\n",
      "          [-0.3725, -0.3255, -0.4667,  ..., -0.6941, -0.5529, -0.5373],\n",
      "          [-0.3020, -0.5294, -0.4431,  ..., -0.5608, -0.5922, -0.6314],\n",
      "          [-0.5059, -0.5373, -0.2235,  ..., -0.1137, -0.2549, -0.5373]]],\n",
      "\n",
      "\n",
      "        [[[ 1.0000,  1.0000,  1.0000,  ...,  0.9059,  0.8510,  0.8824],\n",
      "          [ 0.9843,  1.0000,  0.9922,  ...,  0.6157,  0.5137,  0.6549],\n",
      "          [ 0.9843,  1.0000,  0.9922,  ...,  0.6235,  0.4745,  0.6863],\n",
      "          ...,\n",
      "          [ 0.9216,  0.9294,  0.9373,  ...,  0.9686,  0.9765,  0.9843],\n",
      "          [ 0.9686,  0.9922,  0.9843,  ...,  0.9922,  0.9922,  1.0000],\n",
      "          [ 1.0000,  1.0000,  1.0000,  ...,  1.0000,  1.0000,  1.0000]],\n",
      "\n",
      "         [[ 1.0000,  1.0000,  1.0000,  ...,  0.7961,  0.7804,  0.8667],\n",
      "          [ 0.9843,  1.0000,  0.9922,  ...,  0.3804,  0.3412,  0.5686],\n",
      "          [ 0.9843,  1.0000,  0.9922,  ...,  0.3804,  0.2941,  0.5922],\n",
      "          ...,\n",
      "          [ 0.9843,  1.0000,  0.9686,  ...,  0.9922,  0.9922,  0.9843],\n",
      "          [ 0.9843,  1.0000,  0.9922,  ...,  0.9922,  1.0000,  1.0000],\n",
      "          [ 1.0000,  1.0000,  1.0000,  ...,  1.0000,  1.0000,  1.0000]],\n",
      "\n",
      "         [[ 1.0000,  1.0000,  1.0000,  ...,  0.7098,  0.7020,  0.7882],\n",
      "          [ 0.9843,  1.0000,  0.9922,  ...,  0.1137,  0.1216,  0.4196],\n",
      "          [ 0.9843,  1.0000,  0.9922,  ...,  0.0118,  0.0118,  0.4353],\n",
      "          ...,\n",
      "          [ 0.9686,  1.0000,  0.9059,  ...,  1.0000,  1.0000,  0.9922],\n",
      "          [ 0.9765,  1.0000,  0.9843,  ...,  1.0000,  1.0000,  0.9922],\n",
      "          [ 1.0000,  1.0000,  1.0000,  ...,  1.0000,  1.0000,  1.0000]]],\n",
      "\n",
      "\n",
      "        [[[-0.6784, -0.8745, -0.2314,  ..., -0.1137, -0.4902, -0.6863],\n",
      "          [-0.5059, -0.6235,  0.1373,  ..., -0.0118, -0.5608, -0.8745],\n",
      "          [-0.0431, -0.2235,  0.1373,  ...,  0.0510, -0.4667, -0.8902],\n",
      "          ...,\n",
      "          [-0.5216, -0.2000,  0.0667,  ...,  0.0118, -0.2314, -0.6078],\n",
      "          [-0.2784, -0.4431,  0.0745,  ...,  0.0431, -0.2706, -0.6863],\n",
      "          [-0.3020, -0.6471,  0.2078,  ...,  0.2627, -0.2235, -0.8118]],\n",
      "\n",
      "         [[-0.7176, -0.8980, -0.2392,  ..., -0.1059, -0.4353, -0.6941],\n",
      "          [-0.5608, -0.7098,  0.0510,  ...,  0.0039, -0.4980, -0.8824],\n",
      "          [-0.1059, -0.3725, -0.0196,  ...,  0.0667, -0.4039, -0.8980],\n",
      "          ...,\n",
      "          [-0.5373, -0.2549, -0.0667,  ..., -0.1451, -0.4510, -0.7725],\n",
      "          [-0.3333, -0.4980, -0.0431,  ..., -0.0824, -0.4667, -0.8431],\n",
      "          [-0.3412, -0.6471,  0.1529,  ...,  0.2314, -0.3412, -0.9451]],\n",
      "\n",
      "         [[-0.7647, -0.9608, -0.3333,  ..., -0.2549, -0.5216, -0.7098],\n",
      "          [-0.6314, -0.7804, -0.0902,  ..., -0.1451, -0.5922, -0.9059],\n",
      "          [-0.2157, -0.4902, -0.2078,  ..., -0.0824, -0.4902, -0.9216],\n",
      "          ...,\n",
      "          [-0.6549, -0.4275, -0.2863,  ..., -0.3725, -0.6078, -0.8510],\n",
      "          [-0.4275, -0.6157, -0.1843,  ..., -0.2784, -0.5922, -0.9059],\n",
      "          [-0.4353, -0.7020,  0.1059,  ...,  0.1294, -0.3882, -0.9608]]],\n",
      "\n",
      "\n",
      "        [[[ 1.0000,  0.7647,  0.7882,  ...,  0.7098,  0.9529,  1.0000],\n",
      "          [ 1.0000,  0.8745,  0.6314,  ...,  0.8431,  0.9765,  0.9922],\n",
      "          [ 1.0000,  1.0000,  1.0000,  ...,  1.0000,  0.9686,  0.9843],\n",
      "          ...,\n",
      "          [ 1.0000,  0.9922,  0.9843,  ...,  0.9922,  1.0000,  1.0000],\n",
      "          [ 1.0000,  0.9922,  1.0000,  ...,  0.9922,  0.9922,  1.0000],\n",
      "          [ 1.0000,  0.9922,  1.0000,  ...,  1.0000,  0.9765,  0.9922]],\n",
      "\n",
      "         [[ 1.0000,  0.7490,  0.7569,  ...,  0.6549,  0.9373,  1.0000],\n",
      "          [ 1.0000,  0.8588,  0.5765,  ...,  0.7882,  0.9608,  0.9922],\n",
      "          [ 1.0000,  1.0000,  1.0000,  ...,  0.9922,  0.9922,  1.0000],\n",
      "          ...,\n",
      "          [ 1.0000,  0.9922,  0.9843,  ...,  0.9922,  1.0000,  1.0000],\n",
      "          [ 1.0000,  0.9765,  0.9843,  ...,  0.9922,  1.0000,  1.0000],\n",
      "          [ 1.0000,  0.9765,  0.9686,  ...,  1.0000,  1.0000,  1.0000]],\n",
      "\n",
      "         [[ 0.9922,  0.6863,  0.6784,  ...,  0.5294,  0.8510,  1.0000],\n",
      "          [ 1.0000,  0.8196,  0.5059,  ...,  0.7569,  0.9529,  0.9922],\n",
      "          [ 0.9922,  1.0000,  0.9843,  ...,  1.0000,  0.9922,  0.9922],\n",
      "          ...,\n",
      "          [ 1.0000,  1.0000,  0.9922,  ...,  1.0000,  0.9843,  0.9843],\n",
      "          [ 1.0000,  0.9843,  0.9608,  ...,  1.0000,  0.9922,  0.9922],\n",
      "          [ 1.0000,  0.9843,  0.9451,  ...,  1.0000,  0.9922,  1.0000]]]])\n",
      "tensor([66, 20, 33, 24])\n"
     ]
    }
   ],
   "source": [
    "for data, label in train_data_loader:\n",
    "    print(data)\n",
    "    print(label)\n",
    "    break"
   ]
  },
  {
   "cell_type": "code",
   "execution_count": 42,
   "metadata": {},
   "outputs": [
    {
     "name": "stderr",
     "output_type": "stream",
     "text": [
      "Clipping input data to the valid range for imshow with RGB data ([0..1] for floats or [0..255] for integers).\n"
     ]
    },
    {
     "data": {
      "image/png": "[encoded data removed]",
      "text/plain": [
       "<Figure size 640x480 with 1 Axes>"
      ]
     },
     "metadata": {},
     "output_type": "display_data"
    },
    {
     "name": "stdout",
     "output_type": "stream",
     "text": [
      "flatfish\n"
     ]
    }
   ],
   "source": [
    "i = 2\n",
    "data[i,:].shape\n",
    "img = data[i, :].permute(1,2,0)\n",
    "plt.imshow(img)\n",
    "plt.show()\n",
    "print(label_mapper[int(label[i])])"
   ]
  },
  {
   "cell_type": "code",
   "execution_count": 34,
   "metadata": {},
   "outputs": [
    {
     "data": {
      "text/plain": [
       "tensor(33)"
      ]
     },
     "execution_count": 34,
     "metadata": {},
     "output_type": "execute_result"
    }
   ],
   "source": [
    "label[2]"
   ]
  },
  {
   "cell_type": "code",
   "execution_count": 5,
   "metadata": {},
   "outputs": [
    {
     "name": "stderr",
     "output_type": "stream",
     "text": [
      "Clipping input data to the valid range for imshow with RGB data ([0..1] for floats or [0..255] for integers).\n"
     ]
    },
    {
     "name": "stdout",
     "output_type": "stream",
     "text": [
      "Feature batch shape: torch.Size([200, 3, 32, 32])\n",
      "Labels batch shape: torch.Size([200])\n"
     ]
    },
    {
     "data": {
      "image/png": "[encoded data removed]",
      "text/plain": [
       "<Figure size 640x480 with 1 Axes>"
      ]
     },
     "metadata": {},
     "output_type": "display_data"
    },
    {
     "name": "stdout",
     "output_type": "stream",
     "text": [
      "Label: 19, caterpillar\n"
     ]
    }
   ],
   "source": [
    "train_features, train_labels = next(iter(train_data_loader))\n",
    "print(f\"Feature batch shape: {train_features.size()}\")\n",
    "print(f\"Labels batch shape: {train_labels.size()}\")\n",
    "img = train_features[0]\n",
    "label = train_labels[0]\n",
    "img = img.permute(1, 2, 0)\n",
    "plt.imshow(img)\n",
    "plt.show()\n",
    "print(f\"Label: {label}, {label_mapper[int(label)]}\")"
   ]
  }
 ],
 "metadata": {
  "kernelspec": {
   "display_name": "base",
   "language": "python",
   "name": "python3"
  },
  "language_info": {
   "codemirror_mode": {
    "name": "ipython",
    "version": 3
   },
   "file_extension": ".py",
   "mimetype": "text/x-python",
   "name": "python",
   "nbconvert_exporter": "python",
   "pygments_lexer": "ipython3",
   "version": "3.9.18"
  }
 },
 "nbformat": 4,
 "nbformat_minor": 2
}
