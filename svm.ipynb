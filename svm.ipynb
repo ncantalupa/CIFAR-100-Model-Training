{
 "cells": [
  {
   "cell_type": "markdown",
   "id": "8122bd41-554f-451e-98ec-440d02323518",
   "metadata": {},
   "source": [
    "# SVM Classifiers"
   ]
  },
  {
   "cell_type": "code",
   "execution_count": null,
   "id": "be1b9dde-03c1-4d27-b501-963dc26f0d00",
   "metadata": {},
   "outputs": [],
   "source": [
    "import torch\n",
    "from torchvision.datasets import CIFAR100\n",
    "from torch.utils.data import DataLoader\n",
    "import torchvision.transforms as transforms\n",
    "import pandas as pd\n",
    "import numpy as np\n",
    "import matplotlib.pyplot as plt\n",
    "from sklearn.model_selection import train_test_split\n",
    "from sklearn.metrics import accuracy_score, confusion_matrix"
   ]
  },
  {
   "cell_type": "code",
   "execution_count": null,
   "id": "ce09f5c6-87a8-40e3-aff0-532e3a72f465",
   "metadata": {},
   "outputs": [],
   "source": [
    "ROOT_PATH='data'\n",
    "\n",
    "BATCH_SIZE=1000\n",
    "\n",
    "transform = transforms.Compose(\n",
    "    [transforms.ToTensor(),\n",
    "     transforms.Normalize((0.5, 0.5, 0.5), (0.5, 0.5, 0.5))])\n",
    "\n",
    "train_dataset = CIFAR100(root=ROOT_PATH, download=True, train=True, transform=transform)\n",
    "test_dataset = CIFAR100(root=ROOT_PATH, train=False, transform=transform)\n",
    "\n",
    "train_data_loader = DataLoader(dataset=train_dataset, num_workers=4, batch_size=BATCH_SIZE, shuffle=True)\n",
    "test_data_loader = DataLoader(dataset=test_dataset, num_workers=4, batch_size=BATCH_SIZE, shuffle=False)"
   ]
  },
  {
   "cell_type": "code",
   "execution_count": null,
   "id": "f94f7878-28c3-49cc-8099-97da7f921d54",
   "metadata": {},
   "outputs": [],
   "source": [
    "for train_data, train_labels in train_data_loader:\n",
    "    print(train_data.shape)\n",
    "    print(train_labels.shape)\n",
    "    break\n",
    "\n",
    "for eval_data, eval_labels in test_data_loader:\n",
    "    print(eval_data.shape)\n",
    "    print(eval_labels.shape)\n",
    "    break"
   ]
  },
  {
   "cell_type": "code",
   "execution_count": null,
   "id": "b2171a62-87c0-4668-8c6b-646f1930d44d",
   "metadata": {},
   "outputs": [],
   "source": [
    "plt.imshow(train_data[100].permute(1,2,0))"
   ]
  },
  {
   "cell_type": "code",
   "execution_count": null,
   "id": "f6403974-2bcc-4769-ad0f-f4a8483730cd",
   "metadata": {},
   "outputs": [],
   "source": [
    "def flatten(data_loader):\n",
    "    images = []\n",
    "    labels = []\n",
    "\n",
    "    for img_chunk, label_chunk in data_loader:\n",
    "        for img in img_chunk:\n",
    "            img = np.array(img)\n",
    "            img_flat = img.flatten()\n",
    "            images.append(img_flat)\n",
    "        for label in label_chunk:\n",
    "            labels.append(label)\n",
    "\n",
    "    images = np.array(images)\n",
    "    labels = np.array(labels)\n",
    "    return images, labels"
   ]
  },
  {
   "cell_type": "code",
   "execution_count": null,
   "id": "f15f9581-6507-4d60-9db4-0baa99a2baff",
   "metadata": {},
   "outputs": [],
   "source": [
    "X, y = flatten(train_data_loader)\n",
    "X_train, X_val, y_train, y_val = train_test_split(X, y, test_size=0.2, random_state=41, stratify=y)\n",
    "X_test, y_test = flatten(test_data_loader)"
   ]
  },
  {
   "cell_type": "markdown",
   "id": "fb0d8875-e7b5-458d-945e-edc15285433e",
   "metadata": {},
   "source": [
    "## Linear SVM"
   ]
  },
  {
   "cell_type": "code",
   "execution_count": null,
   "id": "7ccacf58-0ed5-42f6-a8bc-a623d39d67c7",
   "metadata": {},
   "outputs": [],
   "source": [
    "from sklearn.svm import SVC"
   ]
  },
  {
   "cell_type": "code",
   "execution_count": null,
   "id": "feb62d20-d4c5-406e-9133-6e0b51a4ec8f",
   "metadata": {},
   "outputs": [],
   "source": [
    "linear_svm = SVC(C=1.0, kernel='linear', probability=False, random_state=41,\n",
    "                 decision_function_shape='ovr', tol=0.001, max_iter= -1, )"
   ]
  },
  {
   "cell_type": "code",
   "execution_count": null,
   "id": "15d53e32-3e25-4051-8f23-b5a421a5e7c8",
   "metadata": {},
   "outputs": [],
   "source": [
    "linear_svm.fit(X_train, y_train)\n",
    "y_pred_train = linear_svm.predict(X_train)\n",
    "y_pred_val = linear_svm.predict(X_val)\n",
    "train_accuracy = accuracy_score(y_train, y_pred_train)\n",
    "val_accuracy = accuracy_score(y_val, y_pred_val)\n",
    "print('Train acccuracy: ', train_accuracy)\n",
    "print('Validation accuracy: ', val_accuracy)"
   ]
  },
  {
   "cell_type": "code",
   "execution_count": null,
   "id": "76c66509-b3b6-4a3d-8f56-d145dba7fa6b",
   "metadata": {},
   "outputs": [],
   "source": []
  },
  {
   "cell_type": "code",
   "execution_count": null,
   "id": "625119b4-bf1e-4d86-8168-7ae3541393f4",
   "metadata": {},
   "outputs": [],
   "source": []
  }
 ],
 "metadata": {
  "kernelspec": {
   "display_name": "Python 3 (ipykernel)",
   "language": "python",
   "name": "python3"
  },
  "language_info": {
   "codemirror_mode": {
    "name": "ipython",
    "version": 3
   },
   "file_extension": ".py",
   "mimetype": "text/x-python",
   "name": "python",
   "nbconvert_exporter": "python",
   "pygments_lexer": "ipython3",
   "version": "3.8.5"
  }
 },
 "nbformat": 4,
 "nbformat_minor": 5
}
