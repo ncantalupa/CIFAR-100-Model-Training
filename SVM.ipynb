{
 "cells": [
  {
   "cell_type": "markdown",
   "id": "8122bd41-554f-451e-98ec-440d02323518",
   "metadata": {},
   "source": [
    "# SVM Classifiers"
   ]
  },
  {
   "cell_type": "code",
   "execution_count": 1,
   "id": "be1b9dde-03c1-4d27-b501-963dc26f0d00",
   "metadata": {},
   "outputs": [
    {
     "name": "stderr",
     "output_type": "stream",
     "text": [
      "Intel(R) Extension for Scikit-learn* enabled (https://github.com/intel/scikit-learn-intelex)\n"
     ]
    }
   ],
   "source": [
    "from sklearnex import patch_sklearn\n",
    "patch_sklearn()\n",
    "import torch\n",
    "from torchvision.datasets import CIFAR100\n",
    "from torch.utils.data import DataLoader\n",
    "import torchvision.transforms as transforms\n",
    "import pandas as pd\n",
    "import numpy as np\n",
    "import seaborn as sns\n",
    "import matplotlib.pyplot as plt\n",
    "from sklearn.model_selection import train_test_split\n",
    "from sklearn.metrics import accuracy_score, confusion_matrix"
   ]
  },
  {
   "cell_type": "code",
   "execution_count": 2,
   "id": "ce09f5c6-87a8-40e3-aff0-532e3a72f465",
   "metadata": {},
   "outputs": [
    {
     "name": "stdout",
     "output_type": "stream",
     "text": [
      "Files already downloaded and verified\n"
     ]
    }
   ],
   "source": [
    "ROOT_PATH='data'\n",
    "\n",
    "BATCH_SIZE=1000\n",
    "\n",
    "transform = transforms.Compose(\n",
    "    [transforms.ToTensor(),\n",
    "     transforms.Normalize((0.5, 0.5, 0.5), (0.5, 0.5, 0.5))])\n",
    "\n",
    "train_dataset = CIFAR100(root=ROOT_PATH, download=True, train=True, transform=transform)\n",
    "test_dataset = CIFAR100(root=ROOT_PATH, train=False, transform=transform)\n",
    "\n",
    "train_data_loader = DataLoader(dataset=train_dataset, num_workers=4, batch_size=BATCH_SIZE, shuffle=True)\n",
    "test_data_loader = DataLoader(dataset=test_dataset, num_workers=4, batch_size=BATCH_SIZE, shuffle=False)"
   ]
  },
  {
   "cell_type": "code",
   "execution_count": 5,
   "id": "f94f7878-28c3-49cc-8099-97da7f921d54",
   "metadata": {},
   "outputs": [
    {
     "name": "stdout",
     "output_type": "stream",
     "text": [
      "torch.Size([1000, 3, 32, 32])\n",
      "torch.Size([1000])\n",
      "torch.Size([1000, 3, 32, 32])\n",
      "torch.Size([1000])\n"
     ]
    }
   ],
   "source": [
    "for train_data, train_labels in train_data_loader:\n",
    "    print(train_data.shape)\n",
    "    print(train_labels.shape)\n",
    "    break\n",
    "\n",
    "for eval_data, eval_labels in test_data_loader:\n",
    "    print(eval_data.shape)\n",
    "    print(eval_labels.shape)\n",
    "    break"
   ]
  },
  {
   "cell_type": "code",
   "execution_count": 6,
   "id": "b2171a62-87c0-4668-8c6b-646f1930d44d",
   "metadata": {},
   "outputs": [
    {
     "name": "stderr",
     "output_type": "stream",
     "text": [
      "Clipping input data to the valid range for imshow with RGB data ([0..1] for floats or [0..255] for integers).\n"
     ]
    },
    {
     "data": {
      "text/plain": [
       "<matplotlib.image.AxesImage at 0x2aaf1496da90>"
      ]
     },
     "execution_count": 6,
     "metadata": {},
     "output_type": "execute_result"
    },
    {
     "data": {
      "image/png": "[encoded data removed]",
      "text/plain": [
       "<Figure size 432x288 with 1 Axes>"
      ]
     },
     "metadata": {
      "needs_background": "light"
     },
     "output_type": "display_data"
    }
   ],
   "source": [
    "plt.imshow(train_data[100].permute(1,2,0))"
   ]
  },
  {
   "cell_type": "markdown",
   "id": "5a08c5b4-8ee7-4be6-ae8a-966b4bdc9c67",
   "metadata": {},
   "source": [
    "The data needs to be flattened from the tensors in order to be used in SVM. The function below loads the data and does this. The training set is loaded in as a train set and validation set, the test set is also loaded in."
   ]
  },
  {
   "cell_type": "code",
   "execution_count": 3,
   "id": "f6403974-2bcc-4769-ad0f-f4a8483730cd",
   "metadata": {},
   "outputs": [],
   "source": [
    "def flatten(data_loader):\n",
    "    images = []\n",
    "    labels = []\n",
    "\n",
    "    for img_chunk, label_chunk in data_loader:\n",
    "        for img in img_chunk:\n",
    "            img = np.array(img)\n",
    "            img_flat = img.flatten()\n",
    "            images.append(img_flat)\n",
    "        for label in label_chunk:\n",
    "            labels.append(label)\n",
    "\n",
    "    images = np.array(images)\n",
    "    labels = np.array(labels)\n",
    "    return images, labels"
   ]
  },
  {
   "cell_type": "code",
   "execution_count": 4,
   "id": "f15f9581-6507-4d60-9db4-0baa99a2baff",
   "metadata": {},
   "outputs": [],
   "source": [
    "X, y = flatten(train_data_loader)\n",
    "X_train, X_val, y_train, y_val = train_test_split(X, y, test_size=0.2, random_state=41, stratify=y)\n",
    "X_test, y_test = flatten(test_data_loader)"
   ]
  },
  {
   "cell_type": "markdown",
   "id": "fb0d8875-e7b5-458d-945e-edc15285433e",
   "metadata": {},
   "source": [
    "## Linear SVM"
   ]
  },
  {
   "cell_type": "code",
   "execution_count": 7,
   "id": "7ccacf58-0ed5-42f6-a8bc-a623d39d67c7",
   "metadata": {},
   "outputs": [],
   "source": [
    "from sklearn.svm import SVC"
   ]
  },
  {
   "cell_type": "code",
   "execution_count": 10,
   "id": "feb62d20-d4c5-406e-9133-6e0b51a4ec8f",
   "metadata": {},
   "outputs": [],
   "source": [
    "linear_svm = SVC(C=1.0, kernel='linear', probability=False, random_state=41,\n",
    "                 decision_function_shape='ovr', tol=0.001, max_iter= -1)"
   ]
  },
  {
   "cell_type": "code",
   "execution_count": 11,
   "id": "15d53e32-3e25-4051-8f23-b5a421a5e7c8",
   "metadata": {},
   "outputs": [
    {
     "name": "stdout",
     "output_type": "stream",
     "text": [
      "Train acccuracy:  0.9996\n",
      "Validation accuracy:  0.1556\n"
     ]
    }
   ],
   "source": [
    "linear_svm.fit(X_train, y_train)\n",
    "y_pred_train = linear_svm.predict(X_train)\n",
    "y_pred_val = linear_svm.predict(X_val)\n",
    "train_accuracy = accuracy_score(y_train, y_pred_train)\n",
    "val_accuracy = accuracy_score(y_val, y_pred_val)\n",
    "print('Train acccuracy: ', train_accuracy)\n",
    "print('Validation accuracy: ', val_accuracy)"
   ]
  },
  {
   "cell_type": "markdown",
   "id": "2c789dba-d534-4353-9165-b47d40ed7866",
   "metadata": {},
   "source": [
    "Model is significantly overfitting. We'll now adjust the regularization parameter to address this. Due to the increased time and processing required for cross validations (5x), we'll assess performance via the single validation set."
   ]
  },
  {
   "cell_type": "code",
   "execution_count": 5,
   "id": "76c66509-b3b6-4a3d-8f56-d145dba7fa6b",
   "metadata": {},
   "outputs": [],
   "source": [
    "def fit_svm(X_train, X_val, y_train, y_val, C=1.0, max_iter=-1, decision_function_shape='ovr', tol=0.001, kernel='linear'):\n",
    "    linear_svm = SVC(C=C, kernel=kernel, probability=False, random_state=41,\n",
    "                     decision_function_shape=decision_function_shape, tol=tol, max_iter=max_iter)\n",
    "    linear_svm.fit(X_train, y_train)\n",
    "    y_pred_train = linear_svm.predict(X_train)\n",
    "    y_pred_val = linear_svm.predict(X_val)\n",
    "    train_accuracy = accuracy_score(y_train, y_pred_train)\n",
    "    val_accuracy = accuracy_score(y_val, y_pred_val)\n",
    "    print(f'C: {C}, tol: {tol}, max_iter: {max_iter}, {decision_function_shape}')\n",
    "    print('Train acccuracy: ', train_accuracy)\n",
    "    print('Validation accuracy: ', val_accuracy, '\\n')"
   ]
  },
  {
   "cell_type": "code",
   "execution_count": 14,
   "id": "625119b4-bf1e-4d86-8168-7ae3541393f4",
   "metadata": {},
   "outputs": [
    {
     "name": "stdout",
     "output_type": "stream",
     "text": [
      "C: 0.1, tol: 0.001, max_iter: -1, ovr\n",
      "Train acccuracy:  0.930575\n",
      "Validation accuracy:  0.1645 \n",
      "\n",
      "C: 0.01, tol: 0.001, max_iter: -1, ovr\n",
      "Train acccuracy:  0.485675\n",
      "Validation accuracy:  0.1969 \n",
      "\n",
      "C: 0.001, tol: 0.001, max_iter: -1, ovr\n",
      "Train acccuracy:  0.262225\n",
      "Validation accuracy:  0.1947 \n",
      "\n",
      "C: 0.0001, tol: 0.001, max_iter: -1, ovr\n",
      "Train acccuracy:  0.166925\n",
      "Validation accuracy:  0.1598 \n",
      "\n"
     ]
    }
   ],
   "source": [
    "for c in [0.1, 0.01, 0.001, 0.0001]:\n",
    "    fit_svm(X_train, X_val, y_train, y_val, C=c, kernel='linear')"
   ]
  },
  {
   "cell_type": "markdown",
   "id": "104cd11f-48d9-49cf-9e2d-66f480efca1b",
   "metadata": {},
   "source": [
    "With C = 0.01 as the regularization parameter, we get the best validation accuracy. Below a model with C=0.01 is fit and the accuracy assessed on the test set."
   ]
  },
  {
   "cell_type": "code",
   "execution_count": 8,
   "id": "f421a9b1-8f74-45f1-8850-b6537e05705f",
   "metadata": {},
   "outputs": [
    {
     "name": "stdout",
     "output_type": "stream",
     "text": [
      "C: 0.01, tol: 0.001, max_iter: -1, ovr\n",
      "Train acccuracy:  0.48135\n",
      "Validation accuracy:  0.1936 \n",
      "\n"
     ]
    }
   ],
   "source": [
    "fit_svm(X_train, X_test, y_train, y_test, C=0.01, kernel='linear')"
   ]
  },
  {
   "cell_type": "markdown",
   "id": "1734dc03-7543-4e3e-981e-df9a6bd9f265",
   "metadata": {},
   "source": [
    "### Final Linear SVM Test Accuracy: 19.36%"
   ]
  },
  {
   "cell_type": "markdown",
   "id": "94291ed3-a43f-4d79-831f-a60822cb7b86",
   "metadata": {},
   "source": [
    "## Kernel SVM"
   ]
  },
  {
   "cell_type": "markdown",
   "id": "4d956f66-3412-4c21-b442-ab49fcbbba2d",
   "metadata": {},
   "source": [
    "In order to perform better than the linear SVM model above, we attempt kernel SVM. Below we test a few different values of C and both radial and polynomial kernels."
   ]
  },
  {
   "cell_type": "code",
   "execution_count": 17,
   "id": "13dea335-02f0-4259-9c91-c38f00058e6a",
   "metadata": {},
   "outputs": [
    {
     "name": "stdout",
     "output_type": "stream",
     "text": [
      "C: 1, tol: 0.001, max_iter: -1, ovr\n",
      "Train acccuracy:  0.470325\n",
      "Validation accuracy:  0.2424 \n",
      "\n"
     ]
    }
   ],
   "source": [
    "fit_svm(X_train, X_val, y_train, y_val, C=1, kernel='rbf')"
   ]
  },
  {
   "cell_type": "code",
   "execution_count": 18,
   "id": "a1728ae7-2a7a-460d-a142-cdbf6ab6abf8",
   "metadata": {},
   "outputs": [
    {
     "name": "stdout",
     "output_type": "stream",
     "text": [
      "C: 0.1, tol: 0.001, max_iter: -1, ovr\n",
      "Train acccuracy:  0.189225\n",
      "Validation accuracy:  0.1688 \n",
      "\n"
     ]
    }
   ],
   "source": [
    "fit_svm(X_train, X_val, y_train, y_val, C=0.1, kernel='rbf')"
   ]
  },
  {
   "cell_type": "code",
   "execution_count": 20,
   "id": "41646c13-1d67-408b-a73a-51be46b9b969",
   "metadata": {},
   "outputs": [
    {
     "name": "stdout",
     "output_type": "stream",
     "text": [
      "C: 10, tol: 0.001, max_iter: -1, ovr\n",
      "Train acccuracy:  0.89625\n",
      "Validation accuracy:  0.2643 \n",
      "\n"
     ]
    }
   ],
   "source": [
    "fit_svm(X_train, X_val, y_train, y_val, C=10, kernel='rbf')"
   ]
  },
  {
   "cell_type": "code",
   "execution_count": 8,
   "id": "70f668e6-9ac2-4128-81fc-548176f18591",
   "metadata": {},
   "outputs": [
    {
     "name": "stdout",
     "output_type": "stream",
     "text": [
      "C: 100, tol: 0.001, max_iter: -1, ovr\n",
      "Train acccuracy:  0.999825\n",
      "Validation accuracy:  0.2786 \n",
      "\n"
     ]
    }
   ],
   "source": [
    "fit_svm(X_train, X_val, y_train, y_val, C=100, kernel='rbf')"
   ]
  },
  {
   "cell_type": "code",
   "execution_count": 19,
   "id": "37133bf4-df00-4ba8-954b-525cd6044fc3",
   "metadata": {},
   "outputs": [
    {
     "name": "stdout",
     "output_type": "stream",
     "text": [
      "C: 1, tol: 0.001, max_iter: -1, ovr\n",
      "Train acccuracy:  0.513025\n",
      "Validation accuracy:  0.1855 \n",
      "\n"
     ]
    }
   ],
   "source": [
    "fit_svm(X_train, X_val, y_train, y_val, C=1, kernel='poly')"
   ]
  },
  {
   "cell_type": "code",
   "execution_count": 9,
   "id": "aa691d28-a196-491d-b78a-de00b4fd0b5b",
   "metadata": {},
   "outputs": [
    {
     "name": "stdout",
     "output_type": "stream",
     "text": [
      "C: 10, tol: 0.001, max_iter: -1, ovr\n",
      "Train acccuracy:  0.9159\n",
      "Validation accuracy:  0.2183 \n",
      "\n"
     ]
    }
   ],
   "source": [
    "fit_svm(X_train, X_val, y_train, y_val, C=10, kernel='poly')"
   ]
  },
  {
   "cell_type": "markdown",
   "id": "32c3082a-f3bf-401c-baaa-62b9f5200930",
   "metadata": {},
   "source": [
    "Based on the validation accuracies, the best model is one with a radial kernel and C = 100. Below is this models test accuracy."
   ]
  },
  {
   "cell_type": "code",
   "execution_count": 12,
   "id": "d370649f-4a70-4f89-a75f-4361b5fdc867",
   "metadata": {},
   "outputs": [
    {
     "name": "stdout",
     "output_type": "stream",
     "text": [
      "Test acccuracy:  0.2906\n"
     ]
    }
   ],
   "source": [
    "best_kernel_svm = SVC(C=100, kernel='rbf', random_state=41, decision_function_shape='ovr')\n",
    "best_kernel_svm.fit(X, y)\n",
    "y_pred_test = best_kernel_svm.predict(X_test)\n",
    "test_accuracy = accuracy_score(y_test, y_pred_test)\n",
    "print('Test acccuracy: ', test_accuracy)"
   ]
  },
  {
   "cell_type": "markdown",
   "id": "717e934a-ab11-40ba-b2cf-6bea7bd33502",
   "metadata": {},
   "source": [
    "### Final Kernel SVM Accuracy: 29.06%"
   ]
  },
  {
   "cell_type": "markdown",
   "id": "27a85f23-732c-4a77-ae52-e4a3edac32cd",
   "metadata": {},
   "source": [
    "## SVM Appendix\n",
    "Steps for potential further improvement of SVM accuracy"
   ]
  },
  {
   "cell_type": "code",
   "execution_count": 13,
   "id": "7d72f6a2-a593-45f0-8096-b96a1ebbac97",
   "metadata": {},
   "outputs": [],
   "source": [
    "from sklearn.decomposition import PCA\n",
    "from sklearn.preprocessing import StandardScaler\n",
    "pca = PCA(random_state=41)\n",
    "scaler = StandardScaler()\n",
    "X_train_reduced = pca.fit_transform(scaler.fit_transform(X_train))\n",
    "exp_variance = pca.explained_variance_ratio_"
   ]
  },
  {
   "cell_type": "code",
   "execution_count": 14,
   "id": "e477c7e2-0ead-4fb5-aed6-92c550e984cf",
   "metadata": {},
   "outputs": [
    {
     "data": {
      "image/png": "[encoded data removed]",
      "text/plain": [
       "<Figure size 432x288 with 1 Axes>"
      ]
     },
     "metadata": {
      "needs_background": "light"
     },
     "output_type": "display_data"
    }
   ],
   "source": [
    "sns.lineplot(x=[x for x in range(0, 3072)], y=np.cumsum(exp_variance))\n",
    "plt.xlabel('Principal Components')\n",
    "plt.ylabel('Explained Variance Ratio')\n",
    "plt.show()"
   ]
  },
  {
   "cell_type": "code",
   "execution_count": 16,
   "id": "3586ed9a-e55f-41aa-9d86-70264ec0ec4c",
   "metadata": {},
   "outputs": [
    {
     "data": {
      "text/plain": [
       "0.9593125"
      ]
     },
     "execution_count": 16,
     "metadata": {},
     "output_type": "execute_result"
    }
   ],
   "source": [
    "np.cumsum(exp_variance)[250]"
   ]
  },
  {
   "cell_type": "code",
   "execution_count": 17,
   "id": "f8714a67-f860-4af9-bb01-d238230c9d08",
   "metadata": {},
   "outputs": [
    {
     "name": "stdout",
     "output_type": "stream",
     "text": [
      "C: 0.01, tol: 0.001, max_iter: -1, ovr\n",
      "Train acccuracy:  0.453225\n",
      "Validation accuracy:  0.1345 \n",
      "\n"
     ]
    }
   ],
   "source": [
    "X_train_reduced = X_train_reduced[:,:250]\n",
    "X_val_reduced = pca.transform(X_val)\n",
    "X_val_reduced = X_val_reduced[:,:250]\n",
    "fit_svm(X_train_reduced, X_val_reduced, y_train, y_val, C=0.01, kernel='linear')"
   ]
  },
  {
   "cell_type": "markdown",
   "id": "7655f886-e521-4eb1-b87b-879ffac91345",
   "metadata": {},
   "source": [
    "Shown above is a the validation accuracy on the principle components using the best linear model established on the full data. It is similar 0.1345 vs 0.1969. This shows that comparable performance can be achieved on data compressed to 8.14% the original size (95.9% variance preserved). Below code where multiple different models are addressed via cross validation on the decomposed data. If the computational resources allowed, this code would produce the best model based on the data. It performs 5-fold cross validation on linear, radial, 3rd degree polynomial, and 4th degree polynomial kernel models, testing 0.001, 0.01, 0.1, 1, 10, and 100 as values of C. This results in 24 different models, each fit 5 times for a total of 120 fits."
   ]
  },
  {
   "cell_type": "code",
   "execution_count": 17,
   "id": "335d41b0-45be-4818-b88b-1cb16d19f73d",
   "metadata": {},
   "outputs": [],
   "source": [
    "pca = PCA(n_components=250, random_state=41)\n",
    "scaler = StandardScaler()\n",
    "X_reduced = pca.fit_transform(scaler.fit_transform(X))\n",
    "X_test_reduced = pca.transform(X_test)"
   ]
  },
  {
   "cell_type": "code",
   "execution_count": null,
   "id": "da9029d4-0121-42cd-9ef1-369999fb2816",
   "metadata": {},
   "outputs": [],
   "source": [
    "from sklearn.model_selection import GridSearchCV\n",
    "from sklearn.metrics import classification_report\n",
    "\n",
    "svm = SVC()\n",
    "param_grid = {\n",
    "    'C': [0.001, 0.01, 0.1, 1, 10, 100],\n",
    "    'kernel': ['linear', 'rbf', 'poly'],\n",
    "    'degree': [3, 4]\n",
    "}\n",
    "\n",
    "grid_search = GridSearchCV(estimator=svm, param_grid=param_grid, cv=5, verbose=2, scoring='accuracy')\n",
    "grid_search.fit(X_reduced, y)\n",
    "\n",
    "best_model = grid_search.best_estimator_\n",
    "y_pred = best_model.predict(X_reduced)\n",
    "y_pred_test = best_model.predict(X_test_reduced)"
   ]
  },
  {
   "cell_type": "code",
   "execution_count": null,
   "id": "4ce10d91-10a9-438c-aab5-651210c837f8",
   "metadata": {},
   "outputs": [],
   "source": [
    "grid_results_df = pd.DataFrame(grid_search.cv_results_)\n",
    "grid_restuls_df.to_csv('grid_results.csv')\n",
    "grid_results_df"
   ]
  },
  {
   "cell_type": "code",
   "execution_count": null,
   "id": "011c52e5-0688-4c1d-aead-243d9a816720",
   "metadata": {},
   "outputs": [],
   "source": [
    "train_accuracy = accuracy_score(y, y_pred)\n",
    "test_accuracy = accuracy_score(y_test, y_pred_test)\n",
    "print('Train acccuracy: ', train_accuracy)\n",
    "print('Test accuracy: ', val_accuracy)"
   ]
  },
  {
   "cell_type": "code",
   "execution_count": null,
   "id": "b0e3584e-0d5f-498a-8318-6f2ce997d86e",
   "metadata": {},
   "outputs": [],
   "source": []
  }
 ],
 "metadata": {
  "kernelspec": {
   "display_name": "Python 3 (ipykernel)",
   "language": "python",
   "name": "python3"
  },
  "language_info": {
   "codemirror_mode": {
    "name": "ipython",
    "version": 3
   },
   "file_extension": ".py",
   "mimetype": "text/x-python",
   "name": "python",
   "nbconvert_exporter": "python",
   "pygments_lexer": "ipython3",
   "version": "3.12.2"
  }
 },
 "nbformat": 4,
 "nbformat_minor": 5
}
