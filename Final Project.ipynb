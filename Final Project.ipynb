{
 "cells": [
  {
   "cell_type": "markdown",
   "id": "933e97cc-c65c-4c50-ab10-38d0657f5fd6",
   "metadata": {},
   "source": [
    "Nick Cantalupa and Sean Duffy"
   ]
  },
  {
   "cell_type": "markdown",
   "id": "9bf3539f-814b-4dd1-abe0-d804cea95a5f",
   "metadata": {},
   "source": [
    "In this project we explore 4 models for image classification (on the CIFAR100 dataset). We trained a logistic regression model, a linear SVM, kernel SVM, and CNN. The code and accuracies for each of the models can be seen below."
   ]
  },
  {
   "cell_type": "code",
   "execution_count": null,
   "id": "1f6c11d9-c201-4ef0-80fb-e87a6a0f6b5d",
   "metadata": {},
   "outputs": [],
   "source": [
    "# add any of your imports below, and feel free to edit data loading cell as well"
   ]
  },
  {
   "cell_type": "code",
   "execution_count": null,
   "id": "b10641ea-4fd2-4fcd-aff1-f201e7c2dd92",
   "metadata": {},
   "outputs": [],
   "source": [
    "from sklearnex import patch_sklearn\n",
    "patch_sklearn()\n",
    "import torch\n",
    "from torchvision.datasets import CIFAR100\n",
    "from torch.utils.data import DataLoader\n",
    "import torchvision.transforms as transforms\n",
    "import pandas as pd\n",
    "import numpy as np\n",
    "import seaborn as sns\n",
    "import matplotlib.pyplot as plt\n",
    "from sklearn.model_selection import train_test_split\n",
    "from sklearn.metrics import accuracy_score"
   ]
  },
  {
   "cell_type": "code",
   "execution_count": 2,
   "id": "8774a409-96c3-4127-9f06-56009c38240e",
   "metadata": {},
   "outputs": [
    {
     "name": "stdout",
     "output_type": "stream",
     "text": [
      "Files already downloaded and verified\n"
     ]
    }
   ],
   "source": [
    "ROOT_PATH='data'\n",
    "\n",
    "BATCH_SIZE=1000\n",
    "\n",
    "transform = transforms.Compose(\n",
    "    [transforms.ToTensor(),\n",
    "     transforms.Normalize((0.5, 0.5, 0.5), (0.5, 0.5, 0.5))])\n",
    "\n",
    "train_dataset = CIFAR100(root=ROOT_PATH, download=True, train=True, transform=transform)\n",
    "test_dataset = CIFAR100(root=ROOT_PATH, train=False, transform=transform)\n",
    "\n",
    "train_data_loader = DataLoader(dataset=train_dataset, num_workers=4, batch_size=BATCH_SIZE, shuffle=True)\n",
    "test_data_loader = DataLoader(dataset=test_dataset, num_workers=4, batch_size=BATCH_SIZE, shuffle=False)"
   ]
  },
  {
   "cell_type": "markdown",
   "id": "9803f167-1457-420e-b197-15d11f4f6a5b",
   "metadata": {},
   "source": [
    "# Logistic Regression"
   ]
  },
  {
   "cell_type": "code",
   "execution_count": 1,
   "id": "9b5a5c6d-a351-43e2-946b-4d9835a07041",
   "metadata": {},
   "outputs": [],
   "source": [
    "# Logistic regression goes here"
   ]
  },
  {
   "cell_type": "markdown",
   "id": "dfbd9a47-22f2-4482-9bbc-8456c5e8eaa3",
   "metadata": {},
   "source": [
    "# SVM Classifiers"
   ]
  },
  {
   "cell_type": "markdown",
   "id": "48e3897b-a0ac-4df9-8e9c-5e24b45fc08b",
   "metadata": {},
   "source": [
    "The data needs to be flattened from the tensors in order to be used in SVM. The function below loads the data and does this. The training set is loaded in as a train set and validation set, the test set is also loaded in."
   ]
  },
  {
   "cell_type": "code",
   "execution_count": 3,
   "id": "3bf3ab1f-f86b-4ca4-948c-36a30889e8bb",
   "metadata": {},
   "outputs": [],
   "source": [
    "def flatten(data_loader):\n",
    "    images = []\n",
    "    labels = []\n",
    "\n",
    "    for img_chunk, label_chunk in data_loader:\n",
    "        for img in img_chunk:\n",
    "            img = np.array(img)\n",
    "            img_flat = img.flatten()\n",
    "            images.append(img_flat)\n",
    "        for label in label_chunk:\n",
    "            labels.append(label)\n",
    "\n",
    "    images = np.array(images)\n",
    "    labels = np.array(labels)\n",
    "    return images, labels"
   ]
  },
  {
   "cell_type": "code",
   "execution_count": 4,
   "id": "b6121f0a-97b0-406d-8c7c-b0f9455d9e5e",
   "metadata": {},
   "outputs": [],
   "source": [
    "X, y = flatten(train_data_loader)\n",
    "X_train, X_val, y_train, y_val = train_test_split(X, y, test_size=0.2, random_state=41, stratify=y)\n",
    "X_test, y_test = flatten(test_data_loader)"
   ]
  },
  {
   "cell_type": "markdown",
   "id": "9516e3fd-41d3-4b45-8250-c9b00b6b6d03",
   "metadata": {},
   "source": [
    "## Linear SVM"
   ]
  },
  {
   "cell_type": "code",
   "execution_count": 7,
   "id": "7df94108-34f3-4328-9ff1-007bce136898",
   "metadata": {},
   "outputs": [],
   "source": [
    "from sklearn.svm import SVC"
   ]
  },
  {
   "cell_type": "code",
   "execution_count": 10,
   "id": "d98c1bbb-606e-4f01-8cb4-2083648f63e5",
   "metadata": {},
   "outputs": [],
   "source": [
    "linear_svm = SVC(C=1.0, kernel='linear', probability=False, random_state=41,\n",
    "                 decision_function_shape='ovr', tol=0.001, max_iter= -1)"
   ]
  },
  {
   "cell_type": "code",
   "execution_count": 11,
   "id": "56a47a8b-0e96-4989-8250-0f50b98cd6ec",
   "metadata": {},
   "outputs": [
    {
     "name": "stdout",
     "output_type": "stream",
     "text": [
      "Train acccuracy:  0.9996\n",
      "Validation accuracy:  0.1556\n"
     ]
    }
   ],
   "source": [
    "linear_svm.fit(X_train, y_train)\n",
    "y_pred_train = linear_svm.predict(X_train)\n",
    "y_pred_val = linear_svm.predict(X_val)\n",
    "train_accuracy = accuracy_score(y_train, y_pred_train)\n",
    "val_accuracy = accuracy_score(y_val, y_pred_val)\n",
    "print('Train acccuracy: ', train_accuracy)\n",
    "print('Validation accuracy: ', val_accuracy)"
   ]
  },
  {
   "cell_type": "markdown",
   "id": "7d8a5311-4fec-4d9c-853c-e8e434eb388b",
   "metadata": {},
   "source": [
    "Model is significantly overfitting. We'll now adjust the regularization parameter to address this. Due to the increased time and processing required for cross validations (5x), we'll assess performance via the single validation set."
   ]
  },
  {
   "cell_type": "code",
   "execution_count": 5,
   "id": "3b3f819b-dd6f-40fc-a711-4fb0c2598ac8",
   "metadata": {},
   "outputs": [],
   "source": [
    "def fit_svm(X_train, X_val, y_train, y_val, C=1.0, max_iter=-1, decision_function_shape='ovr', tol=0.001, kernel='linear'):\n",
    "    linear_svm = SVC(C=C, kernel=kernel, probability=False, random_state=41,\n",
    "                     decision_function_shape=decision_function_shape, tol=tol, max_iter=max_iter)\n",
    "    linear_svm.fit(X_train, y_train)\n",
    "    y_pred_train = linear_svm.predict(X_train)\n",
    "    y_pred_val = linear_svm.predict(X_val)\n",
    "    train_accuracy = accuracy_score(y_train, y_pred_train)\n",
    "    val_accuracy = accuracy_score(y_val, y_pred_val)\n",
    "    print(f'C: {C}, tol: {tol}, max_iter: {max_iter}, {decision_function_shape}')\n",
    "    print('Train acccuracy: ', train_accuracy)\n",
    "    print('Validation accuracy: ', val_accuracy, '\\n')"
   ]
  },
  {
   "cell_type": "code",
   "execution_count": 14,
   "id": "0a994a5c-971f-420a-97f7-9a2bc0fa29c2",
   "metadata": {},
   "outputs": [
    {
     "name": "stdout",
     "output_type": "stream",
     "text": [
      "C: 0.1, tol: 0.001, max_iter: -1, ovr\n",
      "Train acccuracy:  0.930575\n",
      "Validation accuracy:  0.1645 \n",
      "\n",
      "C: 0.01, tol: 0.001, max_iter: -1, ovr\n",
      "Train acccuracy:  0.485675\n",
      "Validation accuracy:  0.1969 \n",
      "\n",
      "C: 0.001, tol: 0.001, max_iter: -1, ovr\n",
      "Train acccuracy:  0.262225\n",
      "Validation accuracy:  0.1947 \n",
      "\n",
      "C: 0.0001, tol: 0.001, max_iter: -1, ovr\n",
      "Train acccuracy:  0.166925\n",
      "Validation accuracy:  0.1598 \n",
      "\n"
     ]
    }
   ],
   "source": [
    "for c in [0.1, 0.01, 0.001, 0.0001]:\n",
    "    fit_svm(X_train, X_val, y_train, y_val, C=c, kernel='linear')"
   ]
  },
  {
   "cell_type": "markdown",
   "id": "aae591ab-a0f1-4544-a4cf-5963f140af41",
   "metadata": {},
   "source": [
    "With C = 0.01 as the regularization parameter, we get the best validation accuracy. Below a model with C=0.01 is fit and the accuracy assessed on the test set."
   ]
  },
  {
   "cell_type": "code",
   "execution_count": 8,
   "id": "ea050b02-3a1d-4c61-9d68-e31b156b19cb",
   "metadata": {},
   "outputs": [
    {
     "name": "stdout",
     "output_type": "stream",
     "text": [
      "C: 0.01, tol: 0.001, max_iter: -1, ovr\n",
      "Train acccuracy:  0.48135\n",
      "Validation accuracy:  0.1936 \n",
      "\n"
     ]
    }
   ],
   "source": [
    "fit_svm(X_train, X_test, y_train, y_test, C=0.01, kernel='linear')"
   ]
  },
  {
   "cell_type": "markdown",
   "id": "dd80553c-76b3-4478-a1d2-a76d92b23ffe",
   "metadata": {},
   "source": [
    "### Final Linear SVM Test Accuracy: 19.36%"
   ]
  },
  {
   "cell_type": "markdown",
   "id": "24898893-9d51-418b-b3b0-a002b467f328",
   "metadata": {},
   "source": [
    "## Kernel SVM"
   ]
  },
  {
   "cell_type": "markdown",
   "id": "03c3b723-342e-4946-b3c3-2323e14a35a3",
   "metadata": {},
   "source": [
    "In order to perform better than the linear SVM model above, we attempt kernel SVM. Below we test a few different values of C and both radial and polynomial kernels."
   ]
  },
  {
   "cell_type": "code",
   "execution_count": 17,
   "id": "b883f1a6-8cd5-47ad-8585-baaf12c75671",
   "metadata": {},
   "outputs": [
    {
     "name": "stdout",
     "output_type": "stream",
     "text": [
      "C: 1, tol: 0.001, max_iter: -1, ovr\n",
      "Train acccuracy:  0.470325\n",
      "Validation accuracy:  0.2424 \n",
      "\n"
     ]
    }
   ],
   "source": [
    "fit_svm(X_train, X_val, y_train, y_val, C=1, kernel='rbf')"
   ]
  },
  {
   "cell_type": "code",
   "execution_count": 18,
   "id": "9724d39a-b75b-4bbc-a184-540641967ec4",
   "metadata": {},
   "outputs": [
    {
     "name": "stdout",
     "output_type": "stream",
     "text": [
      "C: 0.1, tol: 0.001, max_iter: -1, ovr\n",
      "Train acccuracy:  0.189225\n",
      "Validation accuracy:  0.1688 \n",
      "\n"
     ]
    }
   ],
   "source": [
    "fit_svm(X_train, X_val, y_train, y_val, C=0.1, kernel='rbf')"
   ]
  },
  {
   "cell_type": "code",
   "execution_count": 20,
   "id": "bf2cd006-9e00-498c-ad70-684b76d97c83",
   "metadata": {},
   "outputs": [
    {
     "name": "stdout",
     "output_type": "stream",
     "text": [
      "C: 10, tol: 0.001, max_iter: -1, ovr\n",
      "Train acccuracy:  0.89625\n",
      "Validation accuracy:  0.2643 \n",
      "\n"
     ]
    }
   ],
   "source": [
    "fit_svm(X_train, X_val, y_train, y_val, C=10, kernel='rbf')"
   ]
  },
  {
   "cell_type": "code",
   "execution_count": 8,
   "id": "78634c76-e8e2-4d8d-9269-3a449f483c0f",
   "metadata": {},
   "outputs": [
    {
     "name": "stdout",
     "output_type": "stream",
     "text": [
      "C: 100, tol: 0.001, max_iter: -1, ovr\n",
      "Train acccuracy:  0.999825\n",
      "Validation accuracy:  0.2786 \n",
      "\n"
     ]
    }
   ],
   "source": [
    "fit_svm(X_train, X_val, y_train, y_val, C=100, kernel='rbf')"
   ]
  },
  {
   "cell_type": "code",
   "execution_count": 19,
   "id": "4efcada1-1d5d-4679-a9f7-06d6addd477c",
   "metadata": {},
   "outputs": [
    {
     "name": "stdout",
     "output_type": "stream",
     "text": [
      "C: 1, tol: 0.001, max_iter: -1, ovr\n",
      "Train acccuracy:  0.513025\n",
      "Validation accuracy:  0.1855 \n",
      "\n"
     ]
    }
   ],
   "source": [
    "fit_svm(X_train, X_val, y_train, y_val, C=1, kernel='poly')"
   ]
  },
  {
   "cell_type": "code",
   "execution_count": 9,
   "id": "e125f5d3-8da5-4850-b819-9a2b13061e58",
   "metadata": {},
   "outputs": [
    {
     "name": "stdout",
     "output_type": "stream",
     "text": [
      "C: 10, tol: 0.001, max_iter: -1, ovr\n",
      "Train acccuracy:  0.9159\n",
      "Validation accuracy:  0.2183 \n",
      "\n"
     ]
    }
   ],
   "source": [
    "fit_svm(X_train, X_val, y_train, y_val, C=10, kernel='poly')"
   ]
  },
  {
   "cell_type": "markdown",
   "id": "b4d8cb75-5eac-4866-8597-c225c9f55572",
   "metadata": {},
   "source": [
    "Based on the validation accuracies, the best model is one with a radial kernel and C = 100. Below is this models test accuracy."
   ]
  },
  {
   "cell_type": "code",
   "execution_count": 12,
   "id": "e370b492-2c90-4462-b785-ee63b6062c4d",
   "metadata": {},
   "outputs": [
    {
     "name": "stdout",
     "output_type": "stream",
     "text": [
      "Test acccuracy:  0.2906\n"
     ]
    }
   ],
   "source": [
    "best_kernel_svm = SVC(C=100, kernel='rbf', random_state=41, decision_function_shape='ovr')\n",
    "best_kernel_svm.fit(X, y)\n",
    "y_pred_test = best_kernel_svm.predict(X_test)\n",
    "test_accuracy = accuracy_score(y_test, y_pred_test)\n",
    "print('Test acccuracy: ', test_accuracy)"
   ]
  },
  {
   "cell_type": "markdown",
   "id": "53c1e833-302f-470e-b09b-6dfb2c7a8e96",
   "metadata": {},
   "source": [
    "### Final Kernel SVM Accuracy: 29.06%"
   ]
  },
  {
   "cell_type": "markdown",
   "id": "bb32ccda-920a-46c2-a02c-d637e27818f4",
   "metadata": {},
   "source": [
    "# CNN"
   ]
  },
  {
   "cell_type": "code",
   "execution_count": 2,
   "id": "6ad3ebfa-36cc-4ae9-b90f-964a5e790e77",
   "metadata": {},
   "outputs": [],
   "source": [
    "#CNN goes here"
   ]
  },
  {
   "cell_type": "markdown",
   "id": "1c4853e7-60a3-4375-ad85-bbfae450ae80",
   "metadata": {},
   "source": [
    "# SVM Appendix\n",
    "Steps for potential further improvement of SVM accuracy"
   ]
  },
  {
   "cell_type": "code",
   "execution_count": 13,
   "id": "e4a8d82b-c204-4a7f-a7f5-2d392d1bb048",
   "metadata": {},
   "outputs": [],
   "source": [
    "from sklearn.decomposition import PCA\n",
    "from sklearn.preprocessing import StandardScaler\n",
    "pca = PCA(random_state=41)\n",
    "scaler = StandardScaler()\n",
    "X_train_reduced = pca.fit_transform(scaler.fit_transform(X_train))\n",
    "exp_variance = pca.explained_variance_ratio_"
   ]
  },
  {
   "cell_type": "code",
   "execution_count": 14,
   "id": "c964d1ae-2496-448f-84f1-5da2f9443608",
   "metadata": {},
   "outputs": [
    {
     "data": {
      "image/png": "[encoded data removed]",
      "text/plain": [
       "<Figure size 432x288 with 1 Axes>"
      ]
     },
     "metadata": {
      "needs_background": "light"
     },
     "output_type": "display_data"
    }
   ],
   "source": [
    "sns.lineplot(x=[x for x in range(0, 3072)], y=np.cumsum(exp_variance))\n",
    "plt.xlabel('Principal Components')\n",
    "plt.ylabel('Explained Variance Ratio')\n",
    "plt.show()"
   ]
  },
  {
   "cell_type": "code",
   "execution_count": 16,
   "id": "08a4bdfd-dce0-44b8-a150-d21e8609c5f4",
   "metadata": {},
   "outputs": [
    {
     "data": {
      "text/plain": [
       "0.9593125"
      ]
     },
     "execution_count": 16,
     "metadata": {},
     "output_type": "execute_result"
    }
   ],
   "source": [
    "np.cumsum(exp_variance)[250]"
   ]
  },
  {
   "cell_type": "code",
   "execution_count": 17,
   "id": "1c09d198-7bd2-4b37-aa59-a9b4dedef8e4",
   "metadata": {},
   "outputs": [
    {
     "name": "stdout",
     "output_type": "stream",
     "text": [
      "C: 0.01, tol: 0.001, max_iter: -1, ovr\n",
      "Train acccuracy:  0.453225\n",
      "Validation accuracy:  0.1345 \n",
      "\n"
     ]
    }
   ],
   "source": [
    "X_train_reduced = X_train_reduced[:,:250]\n",
    "X_val_reduced = pca.transform(X_val)\n",
    "X_val_reduced = X_val_reduced[:,:250]\n",
    "fit_svm(X_train_reduced, X_val_reduced, y_train, y_val, C=0.01, kernel='linear')"
   ]
  },
  {
   "cell_type": "markdown",
   "id": "b4dc7391-2769-42d1-a8e4-68d176dbdc1a",
   "metadata": {},
   "source": [
    "Shown above is a the validation accuracy on the principle components using the best linear model established on the full data. It is similar 0.1345 vs 0.1969. This shows that comparable performance can be achieved on data compressed to 8.14% the original size (95.9% variance preserved). Below code where multiple different models are addressed via cross validation on the decomposed data. If the computational resources allowed, this code would produce the best model based on the data. It performs 5-fold cross validation on linear, radial, 3rd degree polynomial, and 4th degree polynomial kernel models, testing 0.001, 0.01, 0.1, 1, 10, and 100 as values of C. This results in 24 different models, each fit 5 times for a total of 120 fits."
   ]
  },
  {
   "cell_type": "code",
   "execution_count": 17,
   "id": "eb53f68f-6d97-4910-811d-6f42dd7a9a68",
   "metadata": {},
   "outputs": [],
   "source": [
    "pca = PCA(n_components=250, random_state=41)\n",
    "scaler = StandardScaler()\n",
    "X_reduced = pca.fit_transform(scaler.fit_transform(X))\n",
    "X_test_reduced = pca.transform(X_test)"
   ]
  },
  {
   "cell_type": "code",
   "execution_count": null,
   "id": "17eff430-c50b-488f-95cc-95127803793e",
   "metadata": {},
   "outputs": [],
   "source": [
    "from sklearn.model_selection import GridSearchCV\n",
    "from sklearn.metrics import classification_report\n",
    "\n",
    "svm = SVC()\n",
    "param_grid = {\n",
    "    'C': [0.001, 0.01, 0.1, 1, 10, 100],\n",
    "    'kernel': ['linear', 'rbf', 'poly'],\n",
    "    'degree': [3, 4]\n",
    "}\n",
    "\n",
    "grid_search = GridSearchCV(estimator=svm, param_grid=param_grid, cv=5, verbose=2, scoring='accuracy')\n",
    "grid_search.fit(X_reduced, y)\n",
    "\n",
    "best_model = grid_search.best_estimator_\n",
    "y_pred = best_model.predict(X_reduced)\n",
    "y_pred_test = best_model.predict(X_test_reduced)"
   ]
  },
  {
   "cell_type": "code",
   "execution_count": null,
   "id": "80c560df-6480-4d97-b976-61d4f7a51c00",
   "metadata": {},
   "outputs": [],
   "source": [
    "grid_results_df = pd.DataFrame(grid_search.cv_results_)\n",
    "grid_restuls_df.to_csv('grid_results.csv')\n",
    "grid_results_df"
   ]
  },
  {
   "cell_type": "code",
   "execution_count": null,
   "id": "836f0c59-f185-486a-9dbe-18e742b1aaae",
   "metadata": {},
   "outputs": [],
   "source": [
    "train_accuracy = accuracy_score(y, y_pred)\n",
    "test_accuracy = accuracy_score(y_test, y_pred_test)\n",
    "print('Train acccuracy: ', train_accuracy)\n",
    "print('Test accuracy: ', val_accuracy)"
   ]
  }
 ],
 "metadata": {
  "kernelspec": {
   "display_name": "Python 3 (ipykernel)",
   "language": "python",
   "name": "python3"
  },
  "language_info": {
   "codemirror_mode": {
    "name": "ipython",
    "version": 3
   },
   "file_extension": ".py",
   "mimetype": "text/x-python",
   "name": "python",
   "nbconvert_exporter": "python",
   "pygments_lexer": "ipython3",
   "version": "3.12.2"
  }
 },
 "nbformat": 4,
 "nbformat_minor": 5
}
