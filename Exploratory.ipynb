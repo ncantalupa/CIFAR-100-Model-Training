{
 "cells": [
  {
   "cell_type": "markdown",
   "metadata": {},
   "source": [
    "# CIFAR-100 Dataset: Image Classification\n",
    "## Nick Cantalupa and Sean Duffy\n",
    "In this project, we will be training 4 seperate models useing different supervised machine learning techniques. These models will be classifying images using a dataset of 60,000 training images. "
   ]
  },
  {
   "cell_type": "markdown",
   "metadata": {},
   "source": [
    "## Loading dataset"
   ]
  },
  {
   "cell_type": "code",
   "execution_count": 1,
   "metadata": {},
   "outputs": [],
   "source": [
    "import torch\n",
    "from torchvision.datasets import CIFAR100, CIFAR10\n",
    "from torch.utils.data import DataLoader\n",
    "import torchvision.transforms as transforms\n",
    "import pandas as pd\n",
    "import numpy as np\n",
    "import matplotlib.pyplot as plt\n",
    "import pickle"
   ]
  },
  {
   "cell_type": "code",
   "execution_count": 15,
   "metadata": {},
   "outputs": [
    {
     "name": "stdout",
     "output_type": "stream",
     "text": [
      "Files already downloaded and verified\n"
     ]
    }
   ],
   "source": [
    "ROOT_PATH = 'data'\n",
    "\n",
    "BATCH_SIZE = 4\n",
    "\n",
    "transform = transforms.Compose(\n",
    "    [transforms.ToTensor(),\n",
    "     transforms.Normalize((0.5, 0.5, 0.5), (0.5, 0.5, 0.5))])\n",
    "\n",
    "# train_dataset = CIFAR100(root=ROOT_PATH, download=True, train=True, transform=transform)\n",
    "# eval_dataset = CIFAR100(root=ROOT_PATH, train=False, transform=transform)\n",
    "\n",
    "train_dataset = CIFAR10(root=ROOT_PATH, download=True, train=True, transform=transform)\n",
    "eval_dataset = CIFAR10(root=ROOT_PATH, train=False, transform=transform)\n",
    "\n",
    "train_data_loader = DataLoader(dataset=train_dataset, num_workers=4, batch_size=BATCH_SIZE, shuffle=True)\n",
    "eval_data_loader = DataLoader(dataset=eval_dataset, num_workers=4, batch_size=BATCH_SIZE, shuffle=False)"
   ]
  },
  {
   "cell_type": "code",
   "execution_count": null,
   "metadata": {},
   "outputs": [],
   "source": [
    "import json\n",
    "\n",
    "with open('data/cifar-100-python/meta', 'rb') as file:\n",
    "    meta = pickle.load(file)\n",
    "\n",
    "with open(\"labels.json\", 'w') as mf:\n",
    "    json.dump(meta, mf)"
   ]
  },
  {
   "cell_type": "code",
   "execution_count": null,
   "metadata": {},
   "outputs": [],
   "source": [
    "label_mapper = {}\n",
    "for i , label in enumerate(meta[\"fine_label_names\"]):\n",
    "    label_mapper[i] = label\n",
    "label_mapper"
   ]
  },
  {
   "cell_type": "code",
   "execution_count": null,
   "metadata": {},
   "outputs": [],
   "source": [
    "for train_data, train_labels in train_data_loader:\n",
    "    print(train_data.shape)\n",
    "    print(train_labels.shape)\n",
    "    break\n",
    "\n",
    "for eval_data, eval_labels in eval_data_loader:\n",
    "    print(eval_data.shape)\n",
    "    print(eval_labels.shape)\n",
    "    break"
   ]
  },
  {
   "cell_type": "code",
   "execution_count": null,
   "metadata": {},
   "outputs": [],
   "source": [
    "i = 3792\n",
    "img = train_data[i, :].permute(1,2,0)\n",
    "plt.imshow(img)\n",
    "plt.show()\n",
    "print(label_mapper[int(train_labels[i])])"
   ]
  },
  {
   "cell_type": "code",
   "execution_count": null,
   "metadata": {},
   "outputs": [],
   "source": [
    "train_data[0].shape"
   ]
  },
  {
   "cell_type": "markdown",
   "metadata": {},
   "source": [
    "## Logistic Regression"
   ]
  },
  {
   "cell_type": "code",
   "execution_count": null,
   "metadata": {},
   "outputs": [],
   "source": [
    "def validation_split(n, val_pct):\n",
    "    n_val = int(n*val_pct)\n",
    "    indexes = np.random.permutation(n)\n",
    "    return indexes[:n_val], indexes[n_val:]\n",
    "\n",
    "training_set, validation_set = validation_split(len(train_data), .80)\n",
    "len(training_set)"
   ]
  },
  {
   "cell_type": "code",
   "execution_count": null,
   "metadata": {},
   "outputs": [],
   "source": [
    "input_size = 3*32*32\n",
    "num_classes = 100"
   ]
  },
  {
   "cell_type": "markdown",
   "metadata": {},
   "source": [
    "#### Neural LR"
   ]
  },
  {
   "cell_type": "code",
   "execution_count": null,
   "metadata": {},
   "outputs": [],
   "source": [
    "class LogisticRegressionTorch(torch.nn.Module):\n",
    "    def __init__(self):\n",
    "        super(LogisticRegressionTorch, self).__init__()\n",
    "        self.linear = torch.nn.Linear(input_size, num_classes)\n",
    "\n",
    "    def forward(self, xb):\n",
    "        xb = xb.reshape(-1, input_size)\n",
    "        output = self.linear(xb)\n",
    "        return output"
   ]
  },
  {
   "cell_type": "code",
   "execution_count": null,
   "metadata": {},
   "outputs": [],
   "source": [
    "def accuracy(outputs, labels):\n",
    "    _, preds = torch.max(outputs, dim=1)\n",
    "    return torch.sum(preds == labels).item() / len(preds)"
   ]
  },
  {
   "cell_type": "code",
   "execution_count": null,
   "metadata": {},
   "outputs": [],
   "source": [
    "def loss_batch(model, loss_fn, xb, yb, opt=None, metric=None):\n",
    "    preds = model(xb)\n",
    "    loss = loss_fn(preds, yb)\n",
    "    if (opt is not None):\n",
    "        loss.backward()\n",
    "        opt.step()\n",
    "        opt.zero_grad()\n",
    "    metric_result = None\n",
    "    if metric is not None:\n",
    "        metric_result = metric(preds,yb)\n",
    "    return loss.item(), len(xb), metric_result"
   ]
  },
  {
   "cell_type": "code",
   "execution_count": null,
   "metadata": {},
   "outputs": [],
   "source": [
    "def evaluate(model, loss_fn, valid_dl, metric=None):\n",
    "    with torch.no_grad():\n",
    "        results = [loss_batch(model, loss_fn, xb, yb, metric=metric) for xb, yb, in valid_dl]\n",
    "        losses, nums, metrics = zip(*results)\n",
    "        total = np.sum(nums)\n",
    "        total_loss = np.sum(np.multiply(losses, nums))\n",
    "        avg_loss = total_loss/total\n",
    "        avg_metric = None \n",
    "        if metric is not None:\n",
    "            tot_metric = np.sum(np.multiply(metrics, nums))\n",
    "            avg_metric = tot_metric/total\n",
    "    return avg_loss, total, avg_metric"
   ]
  },
  {
   "cell_type": "code",
   "execution_count": null,
   "metadata": {},
   "outputs": [],
   "source": [
    "def fit(epochs, model, loss_fn, opt, train_dl, valid_dl, metric=None):\n",
    "    for epoch in range(epochs):\n",
    "        for xb, yb in train_dl:\n",
    "            loss, _, _ = loss_batch(model, loss_fn, xb, yb, opt)\n",
    "        result = evaluate(model, loss_fn, valid_dl, metric)\n",
    "        val_loss, total, val_metric = result\n",
    "\n",
    "        if metric is None:\n",
    "            print(\"Epoch[{}/{}], Loss: {:.4f}\".format(epoch+1, epochs, val_loss))\n",
    "        else:\n",
    "            print(\"Epoch[{}/{}], Loss: {:.4f}, {}: {:.4f}\".format(epoch+1, epochs, val_loss, metric.__name__, val_metric))"
   ]
  },
  {
   "cell_type": "code",
   "execution_count": null,
   "metadata": {},
   "outputs": [],
   "source": [
    "learning_rate = 0.1\n",
    "model = LogisticRegressionTorch()\n",
    "optimizer =torch.optim.SGD(model.parameters(), lr=learning_rate)"
   ]
  },
  {
   "cell_type": "code",
   "execution_count": null,
   "metadata": {},
   "outputs": [],
   "source": [
    "fit(10, model, torch.nn.functional.cross_entropy, optimizer, train_data_loader, eval_data_loader, accuracy)"
   ]
  },
  {
   "cell_type": "markdown",
   "metadata": {},
   "source": [
    "#### Flattened Logistic Regression"
   ]
  },
  {
   "cell_type": "code",
   "execution_count": null,
   "metadata": {},
   "outputs": [],
   "source": [
    "flattened_data = []\n",
    "for i in range(len(train_data)):\n",
    "    if (i%1000 == 0):\n",
    "        print(round((i/len(train_data))*100, 4),\"%\")\n",
    "    flat = train_data[i].flatten()\n",
    "    flat = flat.numpy()\n",
    "    flattened_data.append(pd.Series(flat))\n",
    "\n",
    "df = pd.DataFrame(flattened_data)"
   ]
  },
  {
   "cell_type": "code",
   "execution_count": null,
   "metadata": {},
   "outputs": [],
   "source": [
    "from sklearn.linear_model import LogisticRegression\n",
    "from sklearn.model_selection import train_test_split\n",
    "from sklearn.metrics import accuracy_score\n",
    "\n",
    "X = df\n",
    "y = train_labels\n",
    "\n",
    "X_train, X_test, y_train, y_test = train_test_split(X, y, test_size=0.2, random_state=42)\n",
    "clf = LogisticRegression(multi_class='multinomial', solver='lbfgs', max_iter=400)\n",
    "clf.fit(X_train, y_train)\n",
    "y_pred = clf.predict(X_test)\n",
    "accuracy = accuracy_score(y_test, y_pred)\n",
    "print(\"Accuracy:\", accuracy)"
   ]
  },
  {
   "cell_type": "markdown",
   "metadata": {},
   "source": [
    "## CNN"
   ]
  },
  {
   "cell_type": "code",
   "execution_count": 17,
   "metadata": {},
   "outputs": [],
   "source": [
    "import torch.nn.functional as F"
   ]
  },
  {
   "cell_type": "markdown",
   "metadata": {},
   "source": [
    "### CIFAR10"
   ]
  },
  {
   "cell_type": "code",
   "execution_count": 18,
   "metadata": {},
   "outputs": [],
   "source": [
    "classes = ('plane', 'car', 'bird', 'cat',\n",
    "           'deer', 'dog', 'frog', 'horse', 'ship', 'truck')"
   ]
  },
  {
   "cell_type": "code",
   "execution_count": 19,
   "metadata": {},
   "outputs": [],
   "source": [
    "device = torch.device('cuda' if torch.cuda.is_available() else 'cpu')\n",
    "\n",
    "num_epochs = 5\n",
    "learning_rate = 0.001\n",
    "\n",
    "# classes = list(label_mapper.keys())"
   ]
  },
  {
   "cell_type": "code",
   "execution_count": 20,
   "metadata": {},
   "outputs": [
    {
     "data": {
      "text/plain": [
       "<torch.utils.data.dataloader.DataLoader at 0x13bc51f40>"
      ]
     },
     "execution_count": 20,
     "metadata": {},
     "output_type": "execute_result"
    }
   ],
   "source": [
    "train_data_loader"
   ]
  },
  {
   "cell_type": "code",
   "execution_count": 21,
   "metadata": {},
   "outputs": [],
   "source": [
    "class ConvNN(torch.nn.Module):\n",
    "    # def __init__(self):\n",
    "    #     super(ConvNN, self).__init__()\n",
    "    #     self.conv1 = torch.nn.Conv2d(3, 32, kernel_size=3, padding=1)\n",
    "    #     self.conv2 = torch.nn.Conv2d(32, 64, kernel_size=3, padding=1)\n",
    "    #     self.pool1 = torch.nn.MaxPool2d(2, 2)\n",
    "    #     self.conv3 = torch.nn.Conv2d(64, 128, kernel_size=3, padding=1)\n",
    "    #     self.pool2 = torch.nn.MaxPool2d(2, 2)\n",
    "    #     self.conv4 = torch.nn.Conv2d(128, 256, kernel_size=3, padding=1)\n",
    "    #     self.pool3 = torch.nn.MaxPool2d(2, 2)\n",
    "    #     self.fc1 = torch.nn.Linear(4*4*256, 1024)\n",
    "    #     self.fc2 = torch.nn.Linear(1024, 100)\n",
    "\n",
    "    # def forward(self, x):\n",
    "    #     x = F.relu(self.conv1(x))\n",
    "    #     x = F.relu(self.conv2(x))\n",
    "    #     x = self.pool1(x)\n",
    "    #     x = F.relu(self.conv3(x))\n",
    "    #     x = self.pool2(x)\n",
    "    #     x = F.relu(self.conv4(x))\n",
    "    #     x = self.pool3(x)\n",
    "    #     x = x.view(-1, 4*4*256)\n",
    "    #     x = F.relu(self.fc1(x))\n",
    "    #     x = self.fc2(x)\n",
    "    #     return x\n",
    "    def __init__(self):\n",
    "        super(ConvNN, self).__init__()\n",
    "        self.conv1 = torch.nn.Conv2d(3, 6, 5)\n",
    "        self.pool = torch.nn.MaxPool2d(2, 2)\n",
    "        self.conv2 = torch.nn.Conv2d(6, 16, 5)\n",
    "        self.fc1 = torch.nn.Linear(16 * 5 * 5, 120)\n",
    "        self.fc2 = torch.nn.Linear(120, 84)\n",
    "        self.fc3 = torch.nn.Linear(84, 10)\n",
    "\n",
    "    def forward(self, x):\n",
    "        x = self.pool(F.relu(self.conv1(x)))\n",
    "        x = self.pool(F.relu(self.conv2(x)))\n",
    "        x = x.view(-1, 16 * 5 * 5)\n",
    "        x = F.relu(self.fc1(x))\n",
    "        x = F.relu(self.fc2(x))\n",
    "        x = self.fc3(x)\n",
    "        return x\n",
    "\n"
   ]
  },
  {
   "cell_type": "code",
   "execution_count": 22,
   "metadata": {},
   "outputs": [],
   "source": [
    "model = ConvNN().to(device)"
   ]
  },
  {
   "cell_type": "code",
   "execution_count": 23,
   "metadata": {},
   "outputs": [],
   "source": [
    "loss_fn = torch.nn.CrossEntropyLoss()\n",
    "optimizer = torch.optim.SGD(model.parameters(), lr= learning_rate)\n",
    "n_steps = len(train_data_loader)"
   ]
  },
  {
   "cell_type": "code",
   "execution_count": 24,
   "metadata": {},
   "outputs": [
    {
     "name": "stdout",
     "output_type": "stream",
     "text": [
      "Epoch [1/5], Step [2000/12500], Loss: 2.2821\n",
      "Epoch [1/5], Step [4000/12500], Loss: 2.2701\n",
      "Epoch [1/5], Step [6000/12500], Loss: 2.2733\n",
      "Epoch [1/5], Step [8000/12500], Loss: 2.3898\n",
      "Epoch [1/5], Step [10000/12500], Loss: 1.8459\n",
      "Epoch [1/5], Step [12000/12500], Loss: 1.9091\n",
      "Epoch [2/5], Step [2000/12500], Loss: 1.5968\n",
      "Epoch [2/5], Step [4000/12500], Loss: 1.9115\n",
      "Epoch [2/5], Step [6000/12500], Loss: 1.8843\n",
      "Epoch [2/5], Step [8000/12500], Loss: 1.8545\n",
      "Epoch [2/5], Step [10000/12500], Loss: 1.6123\n",
      "Epoch [2/5], Step [12000/12500], Loss: 1.8100\n",
      "Epoch [3/5], Step [2000/12500], Loss: 2.7025\n",
      "Epoch [3/5], Step [4000/12500], Loss: 1.1148\n",
      "Epoch [3/5], Step [6000/12500], Loss: 1.3757\n",
      "Epoch [3/5], Step [8000/12500], Loss: 1.2874\n",
      "Epoch [3/5], Step [10000/12500], Loss: 2.3755\n",
      "Epoch [3/5], Step [12000/12500], Loss: 1.1509\n",
      "Epoch [4/5], Step [2000/12500], Loss: 1.1642\n",
      "Epoch [4/5], Step [4000/12500], Loss: 1.0308\n",
      "Epoch [4/5], Step [6000/12500], Loss: 0.9176\n",
      "Epoch [4/5], Step [8000/12500], Loss: 1.4165\n",
      "Epoch [4/5], Step [10000/12500], Loss: 1.4314\n",
      "Epoch [4/5], Step [12000/12500], Loss: 1.4922\n",
      "Epoch [5/5], Step [2000/12500], Loss: 1.2701\n",
      "Epoch [5/5], Step [4000/12500], Loss: 0.9912\n",
      "Epoch [5/5], Step [6000/12500], Loss: 1.0163\n",
      "Epoch [5/5], Step [8000/12500], Loss: 1.2181\n",
      "Epoch [5/5], Step [10000/12500], Loss: 2.2886\n",
      "Epoch [5/5], Step [12000/12500], Loss: 0.6412\n"
     ]
    }
   ],
   "source": [
    "for epoch in range(num_epochs):\n",
    "    for i, (images, labels) in enumerate(train_data_loader):\n",
    "        images = images.to(device)\n",
    "        labels = labels.to(device)\n",
    "\n",
    "        outputs = model(images)\n",
    "        loss = loss_fn(outputs, labels)\n",
    "\n",
    "        optimizer.zero_grad()\n",
    "        loss.backward()\n",
    "        optimizer.step()\n",
    "\n",
    "        if (i+1) % 2000 == 0:\n",
    "            print (f'Epoch [{epoch+1}/{num_epochs}], Step [{i+1}/{n_steps}], Loss: {loss.item():.4f}')"
   ]
  },
  {
   "cell_type": "code",
   "execution_count": 25,
   "metadata": {},
   "outputs": [
    {
     "name": "stdout",
     "output_type": "stream",
     "text": [
      "Accuracy of the network: 49.04 %\n",
      "Accuracy of plane: 53.4 %\n",
      "Accuracy of car: 80.5 %\n",
      "Accuracy of bird: 31.7 %\n",
      "Accuracy of cat: 41.5 %\n",
      "Accuracy of deer: 28.5 %\n",
      "Accuracy of dog: 35.3 %\n",
      "Accuracy of frog: 58.7 %\n",
      "Accuracy of horse: 65.4 %\n",
      "Accuracy of ship: 58.7 %\n",
      "Accuracy of truck: 36.7 %\n"
     ]
    }
   ],
   "source": [
    "with torch.no_grad():\n",
    "    n_correct = 0\n",
    "    n_samples = 0\n",
    "    n_class_correct = [0 for i in range(10)]\n",
    "    n_class_samples = [0 for i in range(10)]\n",
    "    for images, labels in eval_data_loader:\n",
    "        images = images.to(device)\n",
    "        labels = labels.to(device)\n",
    "        outputs = model(images)\n",
    "        _, predicted = torch.max(outputs, 1)\n",
    "        n_samples += labels.size(0)\n",
    "        n_correct += (predicted == labels).sum().item()\n",
    "        \n",
    "        for i in range(BATCH_SIZE):\n",
    "            label = labels[i]\n",
    "            pred = predicted[i]\n",
    "            if (label == pred):\n",
    "                n_class_correct[label] += 1\n",
    "            n_class_samples[label] += 1\n",
    "\n",
    "    acc = 100.0 * n_correct / n_samples\n",
    "    print(f'Accuracy of the network: {acc} %')\n",
    "\n",
    "    for i in range(10):\n",
    "        acc = 100.0 * n_class_correct[i] / n_class_samples[i]\n",
    "        print(f'Accuracy of {classes[i]}: {acc} %')\n"
   ]
  }
 ],
 "metadata": {
  "kernelspec": {
   "display_name": "Python 3 (ipykernel)",
   "language": "python",
   "name": "python3"
  },
  "language_info": {
   "codemirror_mode": {
    "name": "ipython",
    "version": 3
   },
   "file_extension": ".py",
   "mimetype": "text/x-python",
   "name": "python",
   "nbconvert_exporter": "python",
   "pygments_lexer": "ipython3",
   "version": "3.12.2"
  }
 },
 "nbformat": 4,
 "nbformat_minor": 4
}
